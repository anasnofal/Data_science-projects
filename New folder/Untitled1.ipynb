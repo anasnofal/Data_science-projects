{
 "cells": [
  {
   "cell_type": "code",
   "execution_count": 1,
   "id": "6a5a849c-3ce3-49c2-bd3f-ae4f25d93949",
   "metadata": {},
   "outputs": [],
   "source": [
    "import pandas as pd \n",
    "import numpy as np\n",
    "import seaborn as sns"
   ]
  },
  {
   "cell_type": "code",
   "execution_count": 26,
   "id": "8a536740-6537-48cb-97f7-ca961ac6eb1f",
   "metadata": {},
   "outputs": [],
   "source": [
    "from datetime import datetime\n",
    "from hijri_converter import convert\n",
    "\n",
    "def hijri(x):\n",
    "    war = datetime.strptime(str(x)[0:10], '%Y-%m-%d')\n",
    "    war1 = convert.Gregorian.fromdate(war).to_hijri()\n",
    "    return war1"
   ]
  },
  {
   "cell_type": "code",
   "execution_count": 27,
   "id": "599b2c89-79f2-4b85-9511-2d9a3c4ceab9",
   "metadata": {},
   "outputs": [
    {
     "data": {
      "text/plain": [
       "Hijri(1454, 4, 26)"
      ]
     },
     "execution_count": 27,
     "metadata": {},
     "output_type": "execute_result"
    }
   ],
   "source": [
    "x='2032-08-03'\n",
    "war = datetime.strptime(str(x)[0:10], '%Y-%m-%d')\n",
    "war1 = convert.Gregorian.fromdate(war).to_hijri()\n",
    "war1"
   ]
  },
  {
   "cell_type": "code",
   "execution_count": 41,
   "id": "78e479af-34a6-41a3-9951-5e1cf0f9ba4b",
   "metadata": {},
   "outputs": [
    {
     "name": "stderr",
     "output_type": "stream",
     "text": [
      "C:\\Users\\Admin\\AppData\\Local\\Temp\\ipykernel_19156\\3781886530.py:3: UserWarning: Parsing dates in DD/MM/YYYY format when dayfirst=False (the default) was specified. This may lead to inconsistently parsed dates! Specify a format to ensure consistent parsing.\n",
      "  data['Date']=pd.DatetimeIndex(data['Date'])\n"
     ]
    }
   ],
   "source": [
    "data = pd.read_csv(\"KSA Peak Analysis Timeline (Events Matrix).xlsx - Sheet1.csv\")\n",
    "data[\"Event\"].unique()\n",
    "data['Date']=pd.DatetimeIndex(data['Date'])"
   ]
  },
  {
   "cell_type": "code",
   "execution_count": 47,
   "id": "2cc1f539-df26-4c1d-8a6f-c63f7785958d",
   "metadata": {},
   "outputs": [],
   "source": [
    "def get_future_dates(start_date, into_future, offset=1):\n",
    "\n",
    "    start_date = start_date + np.timedelta64(offset,'D')\n",
    "    end_date = start_date + np.timedelta64(into_future,'D')\n",
    "    return np.arange(start_date, end_date, dtype='datetime64[D]')"
   ]
  },
  {
   "cell_type": "code",
   "execution_count": 64,
   "id": "4c3a5402-023d-4c92-a15b-a2d0c9a182a0",
   "metadata": {},
   "outputs": [],
   "source": [
    "df1=data\n",
    "df1.index=pd.DatetimeIndex(df1['Date'])\n",
    "start=df1.index[-1]+np.timedelta64(28,'D')\n"
   ]
  },
  {
   "cell_type": "code",
   "execution_count": 65,
   "id": "edcea4f9-5004-4261-915d-c70ec6be9736",
   "metadata": {},
   "outputs": [
    {
     "data": {
      "text/plain": [
       "array(['2021-09-03', '2021-09-04', '2021-09-05', ..., '2032-12-29',\n",
       "       '2032-12-30', '2032-12-31'], dtype='datetime64[D]')"
      ]
     },
     "execution_count": 65,
     "metadata": {},
     "output_type": "execute_result"
    }
   ],
   "source": [
    "df1=data\n",
    "df1.index=pd.DatetimeIndex(df1['Date'])\n",
    "df1.index[-1]\n",
    "next_time_steps = get_future_dates(start, 4138)\n",
    "next_time_steps"
   ]
  },
  {
   "cell_type": "code",
   "execution_count": 67,
   "id": "acb7e269-ba42-49df-9f34-f49750238333",
   "metadata": {},
   "outputs": [
    {
     "data": {
      "text/html": [
       "<div>\n",
       "<style scoped>\n",
       "    .dataframe tbody tr th:only-of-type {\n",
       "        vertical-align: middle;\n",
       "    }\n",
       "\n",
       "    .dataframe tbody tr th {\n",
       "        vertical-align: top;\n",
       "    }\n",
       "\n",
       "    .dataframe thead th {\n",
       "        text-align: right;\n",
       "    }\n",
       "</style>\n",
       "<table border=\"1\" class=\"dataframe\">\n",
       "  <thead>\n",
       "    <tr style=\"text-align: right;\">\n",
       "      <th></th>\n",
       "      <th>Date</th>\n",
       "      <th>hijri</th>\n",
       "      <th>month_h</th>\n",
       "      <th>day_h</th>\n",
       "    </tr>\n",
       "  </thead>\n",
       "  <tbody>\n",
       "    <tr>\n",
       "      <th>0</th>\n",
       "      <td>2021-09-03</td>\n",
       "      <td>1443-01-26</td>\n",
       "      <td>1</td>\n",
       "      <td>26</td>\n",
       "    </tr>\n",
       "    <tr>\n",
       "      <th>1</th>\n",
       "      <td>2021-09-04</td>\n",
       "      <td>1443-01-27</td>\n",
       "      <td>1</td>\n",
       "      <td>27</td>\n",
       "    </tr>\n",
       "    <tr>\n",
       "      <th>2</th>\n",
       "      <td>2021-09-05</td>\n",
       "      <td>1443-01-28</td>\n",
       "      <td>1</td>\n",
       "      <td>28</td>\n",
       "    </tr>\n",
       "    <tr>\n",
       "      <th>3</th>\n",
       "      <td>2021-09-06</td>\n",
       "      <td>1443-01-29</td>\n",
       "      <td>1</td>\n",
       "      <td>29</td>\n",
       "    </tr>\n",
       "    <tr>\n",
       "      <th>4</th>\n",
       "      <td>2021-09-07</td>\n",
       "      <td>1443-01-30</td>\n",
       "      <td>1</td>\n",
       "      <td>30</td>\n",
       "    </tr>\n",
       "    <tr>\n",
       "      <th>...</th>\n",
       "      <td>...</td>\n",
       "      <td>...</td>\n",
       "      <td>...</td>\n",
       "      <td>...</td>\n",
       "    </tr>\n",
       "    <tr>\n",
       "      <th>4133</th>\n",
       "      <td>2032-12-27</td>\n",
       "      <td>1454-09-24</td>\n",
       "      <td>9</td>\n",
       "      <td>24</td>\n",
       "    </tr>\n",
       "    <tr>\n",
       "      <th>4134</th>\n",
       "      <td>2032-12-28</td>\n",
       "      <td>1454-09-25</td>\n",
       "      <td>9</td>\n",
       "      <td>25</td>\n",
       "    </tr>\n",
       "    <tr>\n",
       "      <th>4135</th>\n",
       "      <td>2032-12-29</td>\n",
       "      <td>1454-09-26</td>\n",
       "      <td>9</td>\n",
       "      <td>26</td>\n",
       "    </tr>\n",
       "    <tr>\n",
       "      <th>4136</th>\n",
       "      <td>2032-12-30</td>\n",
       "      <td>1454-09-27</td>\n",
       "      <td>9</td>\n",
       "      <td>27</td>\n",
       "    </tr>\n",
       "    <tr>\n",
       "      <th>4137</th>\n",
       "      <td>2032-12-31</td>\n",
       "      <td>1454-09-28</td>\n",
       "      <td>9</td>\n",
       "      <td>28</td>\n",
       "    </tr>\n",
       "  </tbody>\n",
       "</table>\n",
       "<p>4138 rows × 4 columns</p>\n",
       "</div>"
      ],
      "text/plain": [
       "           Date       hijri  month_h  day_h\n",
       "0    2021-09-03  1443-01-26        1     26\n",
       "1    2021-09-04  1443-01-27        1     27\n",
       "2    2021-09-05  1443-01-28        1     28\n",
       "3    2021-09-06  1443-01-29        1     29\n",
       "4    2021-09-07  1443-01-30        1     30\n",
       "...         ...         ...      ...    ...\n",
       "4133 2032-12-27  1454-09-24        9     24\n",
       "4134 2032-12-28  1454-09-25        9     25\n",
       "4135 2032-12-29  1454-09-26        9     26\n",
       "4136 2032-12-30  1454-09-27        9     27\n",
       "4137 2032-12-31  1454-09-28        9     28\n",
       "\n",
       "[4138 rows x 4 columns]"
      ]
     },
     "execution_count": 67,
     "metadata": {},
     "output_type": "execute_result"
    }
   ],
   "source": [
    "future=pd.DataFrame({'Date':next_time_steps})\n",
    "future['hijri']=future['Date'].apply(hijri)\n",
    "future['month_h']=future['hijri'].apply(lambda x:x.month)\n",
    "future['day_h']=future['hijri'].apply(lambda x:x.day)\n",
    "future"
   ]
  },
  {
   "cell_type": "code",
   "execution_count": 68,
   "id": "112e32ad-241f-40e4-ae05-2f3da06966bf",
   "metadata": {},
   "outputs": [],
   "source": [
    "def haj(month,day):\n",
    "    if month==12 and day>=8 and day<=13:\n",
    "        return 1\n",
    "    else : return 0"
   ]
  },
  {
   "cell_type": "code",
   "execution_count": 69,
   "id": "1ebd40eb-d67c-4f25-bb9e-ca2132ef3ab3",
   "metadata": {},
   "outputs": [],
   "source": [
    "def ramadan(month):\n",
    "    if month==9:\n",
    "        return 1\n",
    "    else : return 0"
   ]
  },
  {
   "cell_type": "code",
   "execution_count": 71,
   "id": "daff3dd2-88f5-43ba-864d-35130579beb2",
   "metadata": {},
   "outputs": [
    {
     "data": {
      "text/html": [
       "<div>\n",
       "<style scoped>\n",
       "    .dataframe tbody tr th:only-of-type {\n",
       "        vertical-align: middle;\n",
       "    }\n",
       "\n",
       "    .dataframe tbody tr th {\n",
       "        vertical-align: top;\n",
       "    }\n",
       "\n",
       "    .dataframe thead th {\n",
       "        text-align: right;\n",
       "    }\n",
       "</style>\n",
       "<table border=\"1\" class=\"dataframe\">\n",
       "  <thead>\n",
       "    <tr style=\"text-align: right;\">\n",
       "      <th></th>\n",
       "      <th>Date</th>\n",
       "      <th>hijri</th>\n",
       "      <th>month_h</th>\n",
       "      <th>day_h</th>\n",
       "      <th>haj</th>\n",
       "    </tr>\n",
       "  </thead>\n",
       "  <tbody>\n",
       "    <tr>\n",
       "      <th>300</th>\n",
       "      <td>2022-06-30</td>\n",
       "      <td>1443-12-01</td>\n",
       "      <td>12</td>\n",
       "      <td>1</td>\n",
       "      <td>0</td>\n",
       "    </tr>\n",
       "    <tr>\n",
       "      <th>301</th>\n",
       "      <td>2022-07-01</td>\n",
       "      <td>1443-12-02</td>\n",
       "      <td>12</td>\n",
       "      <td>2</td>\n",
       "      <td>0</td>\n",
       "    </tr>\n",
       "    <tr>\n",
       "      <th>302</th>\n",
       "      <td>2022-07-02</td>\n",
       "      <td>1443-12-03</td>\n",
       "      <td>12</td>\n",
       "      <td>3</td>\n",
       "      <td>0</td>\n",
       "    </tr>\n",
       "    <tr>\n",
       "      <th>303</th>\n",
       "      <td>2022-07-03</td>\n",
       "      <td>1443-12-04</td>\n",
       "      <td>12</td>\n",
       "      <td>4</td>\n",
       "      <td>0</td>\n",
       "    </tr>\n",
       "    <tr>\n",
       "      <th>304</th>\n",
       "      <td>2022-07-04</td>\n",
       "      <td>1443-12-05</td>\n",
       "      <td>12</td>\n",
       "      <td>5</td>\n",
       "      <td>0</td>\n",
       "    </tr>\n",
       "    <tr>\n",
       "      <th>...</th>\n",
       "      <td>...</td>\n",
       "      <td>...</td>\n",
       "      <td>...</td>\n",
       "      <td>...</td>\n",
       "      <td>...</td>\n",
       "    </tr>\n",
       "    <tr>\n",
       "      <th>3868</th>\n",
       "      <td>2032-04-06</td>\n",
       "      <td>1453-12-25</td>\n",
       "      <td>12</td>\n",
       "      <td>25</td>\n",
       "      <td>0</td>\n",
       "    </tr>\n",
       "    <tr>\n",
       "      <th>3869</th>\n",
       "      <td>2032-04-07</td>\n",
       "      <td>1453-12-26</td>\n",
       "      <td>12</td>\n",
       "      <td>26</td>\n",
       "      <td>0</td>\n",
       "    </tr>\n",
       "    <tr>\n",
       "      <th>3870</th>\n",
       "      <td>2032-04-08</td>\n",
       "      <td>1453-12-27</td>\n",
       "      <td>12</td>\n",
       "      <td>27</td>\n",
       "      <td>0</td>\n",
       "    </tr>\n",
       "    <tr>\n",
       "      <th>3871</th>\n",
       "      <td>2032-04-09</td>\n",
       "      <td>1453-12-28</td>\n",
       "      <td>12</td>\n",
       "      <td>28</td>\n",
       "      <td>0</td>\n",
       "    </tr>\n",
       "    <tr>\n",
       "      <th>3872</th>\n",
       "      <td>2032-04-10</td>\n",
       "      <td>1453-12-29</td>\n",
       "      <td>12</td>\n",
       "      <td>29</td>\n",
       "      <td>0</td>\n",
       "    </tr>\n",
       "  </tbody>\n",
       "</table>\n",
       "<p>324 rows × 5 columns</p>\n",
       "</div>"
      ],
      "text/plain": [
       "           Date       hijri  month_h  day_h  haj\n",
       "300  2022-06-30  1443-12-01       12      1    0\n",
       "301  2022-07-01  1443-12-02       12      2    0\n",
       "302  2022-07-02  1443-12-03       12      3    0\n",
       "303  2022-07-03  1443-12-04       12      4    0\n",
       "304  2022-07-04  1443-12-05       12      5    0\n",
       "...         ...         ...      ...    ...  ...\n",
       "3868 2032-04-06  1453-12-25       12     25    0\n",
       "3869 2032-04-07  1453-12-26       12     26    0\n",
       "3870 2032-04-08  1453-12-27       12     27    0\n",
       "3871 2032-04-09  1453-12-28       12     28    0\n",
       "3872 2032-04-10  1453-12-29       12     29    0\n",
       "\n",
       "[324 rows x 5 columns]"
      ]
     },
     "execution_count": 71,
     "metadata": {},
     "output_type": "execute_result"
    }
   ],
   "source": [
    "future['haj'] = future.apply(lambda x: haj(x['month_h'],x['day_h']), axis=1)\n",
    "future[future['month_h']==12]"
   ]
  },
  {
   "cell_type": "code",
   "execution_count": 73,
   "id": "89f2a07e-d6ea-4792-a941-0c9c869aa62b",
   "metadata": {},
   "outputs": [],
   "source": [
    "future['ramdan'] = future['month_h'].apply(ramadan)"
   ]
  },
  {
   "cell_type": "code",
   "execution_count": 76,
   "id": "22afe637-eff3-4a9f-8f25-9830f18bfec5",
   "metadata": {},
   "outputs": [],
   "source": [
    "future=future[['Date','haj','ramdan']]\n",
    "future.to_csv('event.csv',index=False)"
   ]
  },
  {
   "cell_type": "code",
   "execution_count": null,
   "id": "8c4b6f14-27e8-44a5-9a37-3d27ffa1c8e9",
   "metadata": {},
   "outputs": [],
   "source": []
  }
 ],
 "metadata": {
  "kernelspec": {
   "display_name": "Python 3 (ipykernel)",
   "language": "python",
   "name": "python3"
  },
  "language_info": {
   "codemirror_mode": {
    "name": "ipython",
    "version": 3
   },
   "file_extension": ".py",
   "mimetype": "text/x-python",
   "name": "python",
   "nbconvert_exporter": "python",
   "pygments_lexer": "ipython3",
   "version": "3.10.7"
  }
 },
 "nbformat": 4,
 "nbformat_minor": 5
}
