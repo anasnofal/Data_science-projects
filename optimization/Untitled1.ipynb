{
 "cells": [
  {
   "cell_type": "code",
   "execution_count": 1,
   "id": "5e63798b-ebe9-4464-8179-527d1ddcf93e",
   "metadata": {},
   "outputs": [
    {
     "ename": "SyntaxError",
     "evalue": "expected ':' (3136271630.py, line 13)",
     "output_type": "error",
     "traceback": [
      "\u001b[1;36m  Cell \u001b[1;32mIn [1], line 13\u001b[1;36m\u001b[0m\n\u001b[1;33m    for pj in range(M*N,2*(M*N))\u001b[0m\n\u001b[1;37m                                ^\u001b[0m\n\u001b[1;31mSyntaxError\u001b[0m\u001b[1;31m:\u001b[0m expected ':'\n"
     ]
    }
   ],
   "source": [
    "import numpy as np\n",
    "from pymoo.core.problem import ElementwiseProblem\n",
    "\n",
    "class Brt(ElementwiseProblem):\n",
    "    \n",
    "    def __init__(self, M=10,N=10,**kwargs):\n",
    "        \n",
    "        \n",
    "        variables = dict()\n",
    "\n",
    "        for dj in range(0, M*N):\n",
    "            variables[f\"x{dj:02}\"] = Real(bounds=(0.0, 30.0))\n",
    "        for pj in range(M*N,2*(M*N))\n",
    "            variables[f\"x{pj:02}\"]= integer(bounds=(0, 1))\n",
    "        for Tj in range(2(M*N),3*(M*N))\n",
    "            variables[f\"x{Lj:02}\"]= Real(bounds=(0, 30))\n",
    "\n",
    "\n",
    "        \n",
    "        super().__init__(vars=variables,n_obj=1, n_constr=6,**kwargs)\n",
    "        self.M=M\n",
    "        self.N=N\n",
    "        self.dj=M*N\n",
    "        self.pj=2*(M*N)\n",
    "        self.C = 2\n",
    "        self.Bus_Capacity = 50\n",
    "        self.𝒕𝒋 = [5, 8, 4, 6, 9, 10, 4, 3, 7]\n",
    "        self.𝑻𝒂 = [[0, 2, 0, 1],[0, 2, 1, 1],[0, 2, 0, 1],[0, 2, 0, 1],[0, 2, 0, 1],[0, 2, 0, 1],[0, 2, 0, 1],[0, 2, 0, 1],[0, 2, 0, 1],[0, 2, 0, 1]]\n",
    "        def g1(self,X):\n",
    "            ls=[]\n",
    "            for i in range(self.M):\n",
    "                for j in range(self.N):\n",
    "                    x=i*self.N+j\n",
    "                    -X[self.Lj+x]+\n",
    "                    \n",
    "                    \n",
    "                                                                                                                                   \n",
    "                                                                                                                                    \n",
    "problem = Brt()\n",
    "for name, var in problem.vars.items():\n",
    "    print(name, var)\n"
   ]
  },
  {
   "cell_type": "code",
   "execution_count": null,
   "id": "608935bc-296c-4158-bd4d-e612ae9c33c5",
   "metadata": {},
   "outputs": [],
   "source": [
    "demand_mean = [[10, 12, 15, 5], \n",
    " [5, 6, 8, 5],\n",
    " [15, 18, 20, 5], \n",
    " [10, 12, 15, 5], \n",
    " [5, 6, 8, 10], \n",
    " [15, 18, 20, 10], \n",
    " [10, 12, 15, 10\n",
    " [5, 6, 8, 5], \n",
    " [15, 18, 20, 5], \n",
    " [10, 12, 15, 5]]"
   ]
  },
  {
   "cell_type": "code",
   "execution_count": null,
   "id": "baed89b7-0c85-4bd4-b604-9826037dbc11",
   "metadata": {},
   "outputs": [],
   "source": [
    "demand_stddev = [[2, 3, 2, 1], \n",
    " [1, 2, 1, 1], \n",
    " [3, 4, 3, 1], \n",
    " [2, 3, 2, 1], \n",
    " [1, 2, 1, 1], \n",
    " [3, 4, 3, 1], \n",
    " [3, 4, 3, 1], \n",
    " [2, 3, 2, 1], \n",
    " [1, 2, 1, 1], \n",
    " [3, 4, 3, 1]]"
   ]
  },
  {
   "cell_type": "code",
   "execution_count": null,
   "id": "f934e176-0a70-4d38-9042-376baef5b310",
   "metadata": {},
   "outputs": [],
   "source": [
    "tj= [5, 8, 4, 6, 9, 10, 4, 3, 7]\n",
    "Ta = [[0, 2, 0, 1], \n",
    " [[0, 2, 1, 1], \n",
    " [[0, 2, 0, 1], \n",
    " [[0, 2, 0, 1], \n",
    "[[0, 2, 0, 1], \n",
    "[[0, 2, 0, 1], \n",
    "[[0, 2, 0, 1], \n",
    "[[0, 2, 0, 1], \n",
    "[[0, 2, 0, 1], \n",
    "[[0, 2, 0, 1]]"
   ]
  },
  {
   "cell_type": "code",
   "execution_count": null,
   "id": "ec449923-655e-49fc-b40b-2ca551e48282",
   "metadata": {},
   "outputs": [],
   "source": []
  }
 ],
 "metadata": {
  "kernelspec": {
   "display_name": "Python 3 (ipykernel)",
   "language": "python",
   "name": "python3"
  },
  "language_info": {
   "codemirror_mode": {
    "name": "ipython",
    "version": 3
   },
   "file_extension": ".py",
   "mimetype": "text/x-python",
   "name": "python",
   "nbconvert_exporter": "python",
   "pygments_lexer": "ipython3",
   "version": "3.10.10"
  }
 },
 "nbformat": 4,
 "nbformat_minor": 5
}
