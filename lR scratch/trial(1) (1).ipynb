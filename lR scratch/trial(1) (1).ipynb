{
 "cells": [
  {
   "cell_type": "code",
   "execution_count": 144,
   "id": "9df0393a-e9cd-4ba7-82df-682355d58461",
   "metadata": {},
   "outputs": [],
   "source": [
    "import numpy as np\n",
    "import matplotlib.pyplot as plt\n",
    "import pandas as pd\n",
    "import os \n",
    "import seaborn as sns #Visualization"
   ]
  },
  {
   "cell_type": "markdown",
   "id": "f356b4f5-3650-4d31-8c8d-5f78854b50c9",
   "metadata": {},
   "source": [
    "### function defention "
   ]
  },
  {
   "cell_type": "code",
   "execution_count": 145,
   "id": "e7198960-32b6-4ed4-8ca4-f66ab3ac3d27",
   "metadata": {},
   "outputs": [],
   "source": [
    "    \n",
    "    def preprocessing(X):\n",
    "        return np.c_[np.ones([X.shape[0],1]),X]\n",
    "    \n",
    "    def compute_r2(y_true, y_predicted):\n",
    "        sse = sum((y_true - y_predicted)**2) # why not to use np before sum? \n",
    "        tse = (len(y_true) - 1) * np.var(y_true, ddof=1) # what is this ?\n",
    "        r2_score = 1 - (sse / tse) \n",
    "        return r2_score, sse, tse\n",
    "\"\"\"\n",
    "  \n",
    "    \n",
    "    # calculate TSE\n",
    "    mean = np.mean(y_true)\n",
    "    tse = np.sum((y_true - mean)**2)\n",
    "    \n",
    "    \n",
    "\"\"\"\n",
    "    \n",
    "    def compute_rss_rse(y_true, y_predicted):\n",
    "        rss=np.sum(np.square(y_true- y_predicted))\n",
    "        rse = np.sqrt(rss / (len(y_true) - 2))\n",
    "        return rss,rse\n",
    "    \n",
    "    def predict(X,theta):\n",
    "        X =preprocessing(X)\n",
    "        return X.dot(theta)\n",
    "    "
   ]
  },
  {
   "cell_type": "markdown",
   "id": "243ad2d6-5f3a-4e9d-9524-47b3c1bff0e0",
   "metadata": {},
   "source": [
    "### data preparing"
   ]
  },
  {
   "cell_type": "code",
   "execution_count": 170,
   "id": "bdf9605f-c815-4c3f-941c-49ce2582583e",
   "metadata": {},
   "outputs": [
    {
     "data": {
      "text/html": [
       "<div>\n",
       "<style scoped>\n",
       "    .dataframe tbody tr th:only-of-type {\n",
       "        vertical-align: middle;\n",
       "    }\n",
       "\n",
       "    .dataframe tbody tr th {\n",
       "        vertical-align: top;\n",
       "    }\n",
       "\n",
       "    .dataframe thead th {\n",
       "        text-align: right;\n",
       "    }\n",
       "</style>\n",
       "<table border=\"1\" class=\"dataframe\">\n",
       "  <thead>\n",
       "    <tr style=\"text-align: right;\">\n",
       "      <th></th>\n",
       "      <th>age</th>\n",
       "      <th>sex</th>\n",
       "      <th>bmi</th>\n",
       "      <th>children</th>\n",
       "      <th>smoker</th>\n",
       "      <th>region</th>\n",
       "      <th>charges</th>\n",
       "    </tr>\n",
       "  </thead>\n",
       "  <tbody>\n",
       "    <tr>\n",
       "      <th>0</th>\n",
       "      <td>19</td>\n",
       "      <td>female</td>\n",
       "      <td>27.900</td>\n",
       "      <td>0</td>\n",
       "      <td>yes</td>\n",
       "      <td>southwest</td>\n",
       "      <td>16884.92400</td>\n",
       "    </tr>\n",
       "    <tr>\n",
       "      <th>1</th>\n",
       "      <td>18</td>\n",
       "      <td>male</td>\n",
       "      <td>33.770</td>\n",
       "      <td>1</td>\n",
       "      <td>no</td>\n",
       "      <td>southeast</td>\n",
       "      <td>1725.55230</td>\n",
       "    </tr>\n",
       "    <tr>\n",
       "      <th>2</th>\n",
       "      <td>28</td>\n",
       "      <td>male</td>\n",
       "      <td>33.000</td>\n",
       "      <td>3</td>\n",
       "      <td>no</td>\n",
       "      <td>southeast</td>\n",
       "      <td>4449.46200</td>\n",
       "    </tr>\n",
       "    <tr>\n",
       "      <th>3</th>\n",
       "      <td>33</td>\n",
       "      <td>male</td>\n",
       "      <td>22.705</td>\n",
       "      <td>0</td>\n",
       "      <td>no</td>\n",
       "      <td>northwest</td>\n",
       "      <td>21984.47061</td>\n",
       "    </tr>\n",
       "    <tr>\n",
       "      <th>4</th>\n",
       "      <td>32</td>\n",
       "      <td>male</td>\n",
       "      <td>28.880</td>\n",
       "      <td>0</td>\n",
       "      <td>no</td>\n",
       "      <td>northwest</td>\n",
       "      <td>3866.85520</td>\n",
       "    </tr>\n",
       "    <tr>\n",
       "      <th>...</th>\n",
       "      <td>...</td>\n",
       "      <td>...</td>\n",
       "      <td>...</td>\n",
       "      <td>...</td>\n",
       "      <td>...</td>\n",
       "      <td>...</td>\n",
       "      <td>...</td>\n",
       "    </tr>\n",
       "    <tr>\n",
       "      <th>1333</th>\n",
       "      <td>50</td>\n",
       "      <td>male</td>\n",
       "      <td>30.970</td>\n",
       "      <td>3</td>\n",
       "      <td>no</td>\n",
       "      <td>northwest</td>\n",
       "      <td>10600.54830</td>\n",
       "    </tr>\n",
       "    <tr>\n",
       "      <th>1334</th>\n",
       "      <td>18</td>\n",
       "      <td>female</td>\n",
       "      <td>31.920</td>\n",
       "      <td>0</td>\n",
       "      <td>no</td>\n",
       "      <td>northeast</td>\n",
       "      <td>2205.98080</td>\n",
       "    </tr>\n",
       "    <tr>\n",
       "      <th>1335</th>\n",
       "      <td>18</td>\n",
       "      <td>female</td>\n",
       "      <td>36.850</td>\n",
       "      <td>0</td>\n",
       "      <td>no</td>\n",
       "      <td>southeast</td>\n",
       "      <td>1629.83350</td>\n",
       "    </tr>\n",
       "    <tr>\n",
       "      <th>1336</th>\n",
       "      <td>21</td>\n",
       "      <td>female</td>\n",
       "      <td>25.800</td>\n",
       "      <td>0</td>\n",
       "      <td>no</td>\n",
       "      <td>southwest</td>\n",
       "      <td>2007.94500</td>\n",
       "    </tr>\n",
       "    <tr>\n",
       "      <th>1337</th>\n",
       "      <td>61</td>\n",
       "      <td>female</td>\n",
       "      <td>29.070</td>\n",
       "      <td>0</td>\n",
       "      <td>yes</td>\n",
       "      <td>northwest</td>\n",
       "      <td>29141.36030</td>\n",
       "    </tr>\n",
       "  </tbody>\n",
       "</table>\n",
       "<p>1338 rows × 7 columns</p>\n",
       "</div>"
      ],
      "text/plain": [
       "      age     sex     bmi  children smoker     region      charges\n",
       "0      19  female  27.900         0    yes  southwest  16884.92400\n",
       "1      18    male  33.770         1     no  southeast   1725.55230\n",
       "2      28    male  33.000         3     no  southeast   4449.46200\n",
       "3      33    male  22.705         0     no  northwest  21984.47061\n",
       "4      32    male  28.880         0     no  northwest   3866.85520\n",
       "...   ...     ...     ...       ...    ...        ...          ...\n",
       "1333   50    male  30.970         3     no  northwest  10600.54830\n",
       "1334   18  female  31.920         0     no  northeast   2205.98080\n",
       "1335   18  female  36.850         0     no  southeast   1629.83350\n",
       "1336   21  female  25.800         0     no  southwest   2007.94500\n",
       "1337   61  female  29.070         0    yes  northwest  29141.36030\n",
       "\n",
       "[1338 rows x 7 columns]"
      ]
     },
     "execution_count": 170,
     "metadata": {},
     "output_type": "execute_result"
    }
   ],
   "source": [
    "df = pd.read_csv('insurance.csv')\n",
    "df"
   ]
  },
  {
   "cell_type": "code",
   "execution_count": 113,
   "id": "7b5cd2ae",
   "metadata": {},
   "outputs": [
    {
     "data": {
      "image/png": "[encoded data removed]",
      "text/plain": [
       "<Figure size 640x480 with 2 Axes>"
      ]
     },
     "metadata": {},
     "output_type": "display_data"
    }
   ],
   "source": [
    "# correlation plot\n",
    "corr = df.corr().round(1)\n",
    "sns.heatmap(corr, cmap = 'Wistia', annot= True);"
   ]
  },
  {
   "cell_type": "code",
   "execution_count": 171,
   "id": "c4917ffc",
   "metadata": {},
   "outputs": [
    {
     "name": "stdout",
     "output_type": "stream",
     "text": [
      "southeast    0.272048\n",
      "southwest    0.242900\n",
      "northwest    0.242900\n",
      "northeast    0.242152\n",
      "Name: region, dtype: float64\n"
     ]
    },
    {
     "data": {
      "text/plain": [
       "<AxesSubplot:ylabel='region'>"
      ]
     },
     "execution_count": 171,
     "metadata": {},
     "output_type": "execute_result"
    },
    {
     "data": {
      "image/png": "[encoded data removed]",
      "text/plain": [
       "<Figure size 640x480 with 1 Axes>"
      ]
     },
     "metadata": {},
     "output_type": "display_data"
    }
   ],
   "source": [
    "charges_1= df['region'].value_counts(normalize=True)\n",
    "print(charges_1)\n",
    "charges_1.plot(kind='pie')"
   ]
  },
  {
   "cell_type": "code",
   "execution_count": 181,
   "id": "68b3aae1",
   "metadata": {},
   "outputs": [
    {
     "name": "stdout",
     "output_type": "stream",
     "text": [
      "no     0.795217\n",
      "yes    0.204783\n",
      "Name: smoker, dtype: float64\n"
     ]
    },
    {
     "data": {
      "text/plain": [
       "<AxesSubplot:ylabel='smoker'>"
      ]
     },
     "execution_count": 181,
     "metadata": {},
     "output_type": "execute_result"
    },
    {
     "data": {
      "image/png": "[encoded data removed]",
      "text/plain": [
       "<Figure size 640x480 with 1 Axes>"
      ]
     },
     "metadata": {},
     "output_type": "display_data"
    }
   ],
   "source": [
    "charges_1= df['smoker'].value_counts(normalize=True)\n",
    "print(charges_1)\n",
    "charges_1.plot(kind='pie')"
   ]
  },
  {
   "cell_type": "code",
   "execution_count": 21,
   "id": "aece957b",
   "metadata": {},
   "outputs": [
    {
     "data": {
      "text/plain": [
       "'C:\\\\Users\\\\Farah\\\\Downloads'"
      ]
     },
     "execution_count": 21,
     "metadata": {},
     "output_type": "execute_result"
    }
   ],
   "source": [
    "os.getcwd()"
   ]
  },
  {
   "cell_type": "code",
   "execution_count": 179,
   "id": "c0aabfaa",
   "metadata": {},
   "outputs": [
    {
     "name": "stdout",
     "output_type": "stream",
     "text": [
      "0    0.428999\n",
      "1    0.242152\n",
      "2    0.179372\n",
      "3    0.117339\n",
      "4    0.018685\n",
      "5    0.013453\n",
      "Name: children, dtype: float64\n"
     ]
    },
    {
     "data": {
      "text/plain": [
       "<AxesSubplot:>"
      ]
     },
     "execution_count": 179,
     "metadata": {},
     "output_type": "execute_result"
    },
    {
     "data": {
      "image/png": "[encoded data removed]",
      "text/plain": [
       "<Figure size 640x480 with 1 Axes>"
      ]
     },
     "metadata": {},
     "output_type": "display_data"
    }
   ],
   "source": [
    "charges_1= df['children'].value_counts(normalize=True)\n",
    "print(charges_1)\n",
    "charges_1.plot(kind='barh')"
   ]
  },
  {
   "cell_type": "code",
   "execution_count": 114,
   "id": "e8c15b31",
   "metadata": {},
   "outputs": [
    {
     "data": {
      "text/html": [
       "<div>\n",
       "<style scoped>\n",
       "    .dataframe tbody tr th:only-of-type {\n",
       "        vertical-align: middle;\n",
       "    }\n",
       "\n",
       "    .dataframe tbody tr th {\n",
       "        vertical-align: top;\n",
       "    }\n",
       "\n",
       "    .dataframe thead th {\n",
       "        text-align: right;\n",
       "    }\n",
       "</style>\n",
       "<table border=\"1\" class=\"dataframe\">\n",
       "  <thead>\n",
       "    <tr style=\"text-align: right;\">\n",
       "      <th></th>\n",
       "      <th>sex</th>\n",
       "      <th>smoker</th>\n",
       "      <th>region</th>\n",
       "    </tr>\n",
       "  </thead>\n",
       "  <tbody>\n",
       "    <tr>\n",
       "      <th>count</th>\n",
       "      <td>1338</td>\n",
       "      <td>1338</td>\n",
       "      <td>1338</td>\n",
       "    </tr>\n",
       "    <tr>\n",
       "      <th>unique</th>\n",
       "      <td>2</td>\n",
       "      <td>2</td>\n",
       "      <td>4</td>\n",
       "    </tr>\n",
       "    <tr>\n",
       "      <th>top</th>\n",
       "      <td>male</td>\n",
       "      <td>no</td>\n",
       "      <td>southeast</td>\n",
       "    </tr>\n",
       "    <tr>\n",
       "      <th>freq</th>\n",
       "      <td>676</td>\n",
       "      <td>1064</td>\n",
       "      <td>364</td>\n",
       "    </tr>\n",
       "  </tbody>\n",
       "</table>\n",
       "</div>"
      ],
      "text/plain": [
       "         sex smoker     region\n",
       "count   1338   1338       1338\n",
       "unique     2      2          4\n",
       "top     male     no  southeast\n",
       "freq     676   1064        364"
      ]
     },
     "execution_count": 114,
     "metadata": {},
     "output_type": "execute_result"
    }
   ],
   "source": [
    "df. describe(include='O') "
   ]
  },
  {
   "cell_type": "code",
   "execution_count": 115,
   "id": "c625aca3",
   "metadata": {},
   "outputs": [
    {
     "name": "stdout",
     "output_type": "stream",
     "text": [
      "<class 'pandas.core.frame.DataFrame'>\n",
      "RangeIndex: 1338 entries, 0 to 1337\n",
      "Data columns (total 7 columns):\n",
      " #   Column    Non-Null Count  Dtype  \n",
      "---  ------    --------------  -----  \n",
      " 0   age       1338 non-null   int64  \n",
      " 1   sex       1338 non-null   object \n",
      " 2   bmi       1338 non-null   float64\n",
      " 3   children  1338 non-null   int64  \n",
      " 4   smoker    1338 non-null   object \n",
      " 5   region    1338 non-null   object \n",
      " 6   charges   1338 non-null   float64\n",
      "dtypes: float64(2), int64(2), object(3)\n",
      "memory usage: 73.3+ KB\n"
     ]
    }
   ],
   "source": [
    "df.info()"
   ]
  },
  {
   "cell_type": "code",
   "execution_count": 147,
   "id": "d989bd99-36e9-4740-9d6f-b711f02059a7",
   "metadata": {},
   "outputs": [
    {
     "data": {
      "text/html": [
       "<div>\n",
       "<style scoped>\n",
       "    .dataframe tbody tr th:only-of-type {\n",
       "        vertical-align: middle;\n",
       "    }\n",
       "\n",
       "    .dataframe tbody tr th {\n",
       "        vertical-align: top;\n",
       "    }\n",
       "\n",
       "    .dataframe thead th {\n",
       "        text-align: right;\n",
       "    }\n",
       "</style>\n",
       "<table border=\"1\" class=\"dataframe\">\n",
       "  <thead>\n",
       "    <tr style=\"text-align: right;\">\n",
       "      <th></th>\n",
       "      <th>age</th>\n",
       "      <th>sex</th>\n",
       "      <th>bmi</th>\n",
       "      <th>children</th>\n",
       "      <th>smoker</th>\n",
       "      <th>charges</th>\n",
       "      <th>region_northeast</th>\n",
       "      <th>region_northwest</th>\n",
       "      <th>region_southeast</th>\n",
       "      <th>region_southwest</th>\n",
       "    </tr>\n",
       "  </thead>\n",
       "  <tbody>\n",
       "    <tr>\n",
       "      <th>0</th>\n",
       "      <td>19</td>\n",
       "      <td>1</td>\n",
       "      <td>27.900</td>\n",
       "      <td>0</td>\n",
       "      <td>1</td>\n",
       "      <td>16884.92400</td>\n",
       "      <td>0</td>\n",
       "      <td>0</td>\n",
       "      <td>0</td>\n",
       "      <td>1</td>\n",
       "    </tr>\n",
       "    <tr>\n",
       "      <th>1</th>\n",
       "      <td>18</td>\n",
       "      <td>0</td>\n",
       "      <td>33.770</td>\n",
       "      <td>1</td>\n",
       "      <td>0</td>\n",
       "      <td>1725.55230</td>\n",
       "      <td>0</td>\n",
       "      <td>0</td>\n",
       "      <td>1</td>\n",
       "      <td>0</td>\n",
       "    </tr>\n",
       "    <tr>\n",
       "      <th>2</th>\n",
       "      <td>28</td>\n",
       "      <td>0</td>\n",
       "      <td>33.000</td>\n",
       "      <td>3</td>\n",
       "      <td>0</td>\n",
       "      <td>4449.46200</td>\n",
       "      <td>0</td>\n",
       "      <td>0</td>\n",
       "      <td>1</td>\n",
       "      <td>0</td>\n",
       "    </tr>\n",
       "    <tr>\n",
       "      <th>3</th>\n",
       "      <td>33</td>\n",
       "      <td>0</td>\n",
       "      <td>22.705</td>\n",
       "      <td>0</td>\n",
       "      <td>0</td>\n",
       "      <td>21984.47061</td>\n",
       "      <td>0</td>\n",
       "      <td>1</td>\n",
       "      <td>0</td>\n",
       "      <td>0</td>\n",
       "    </tr>\n",
       "    <tr>\n",
       "      <th>4</th>\n",
       "      <td>32</td>\n",
       "      <td>0</td>\n",
       "      <td>28.880</td>\n",
       "      <td>0</td>\n",
       "      <td>0</td>\n",
       "      <td>3866.85520</td>\n",
       "      <td>0</td>\n",
       "      <td>1</td>\n",
       "      <td>0</td>\n",
       "      <td>0</td>\n",
       "    </tr>\n",
       "  </tbody>\n",
       "</table>\n",
       "</div>"
      ],
      "text/plain": [
       "   age  sex     bmi  children  smoker      charges  region_northeast  \\\n",
       "0   19    1  27.900         0       1  16884.92400                 0   \n",
       "1   18    0  33.770         1       0   1725.55230                 0   \n",
       "2   28    0  33.000         3       0   4449.46200                 0   \n",
       "3   33    0  22.705         0       0  21984.47061                 0   \n",
       "4   32    0  28.880         0       0   3866.85520                 0   \n",
       "\n",
       "   region_northwest  region_southeast  region_southwest  \n",
       "0                 0                 0                 1  \n",
       "1                 0                 1                 0  \n",
       "2                 0                 1                 0  \n",
       "3                 1                 0                 0  \n",
       "4                 1                 0                 0  "
      ]
     },
     "execution_count": 147,
     "metadata": {},
     "output_type": "execute_result"
    }
   ],
   "source": [
    "df[\"sex\"].replace({\"male\": 0, \"female\": 1}, inplace=True) # Male: 0, Female: 1\n",
    "df[\"smoker\"].replace({\"yes\": 1, \"no\": 0}, inplace=True) # Yes: 1, No: 0\n",
    "\n",
    "df = pd.get_dummies(df) # divide regions column into four different column with binary labels\n",
    "df.head()"
   ]
  },
  {
   "cell_type": "code",
   "execution_count": 168,
   "id": "27d3f0ca",
   "metadata": {},
   "outputs": [
    {
     "name": "stdout",
     "output_type": "stream",
     "text": [
      "0    0.505232\n",
      "1    0.494768\n",
      "Name: sex, dtype: float64\n"
     ]
    },
    {
     "data": {
      "text/plain": [
       "<AxesSubplot:ylabel='sex'>"
      ]
     },
     "execution_count": 168,
     "metadata": {},
     "output_type": "execute_result"
    },
    {
     "data": {
      "image/png": "[encoded data removed]",
      "text/plain": [
       "<Figure size 640x480 with 1 Axes>"
      ]
     },
     "metadata": {},
     "output_type": "display_data"
    }
   ],
   "source": [
    "charges_1= df['sex'].value_counts(normalize=True)\n",
    "print(charges_1)\n",
    "charges_1.plot(kind='pie')\n"
   ]
  },
  {
   "cell_type": "code",
   "execution_count": null,
   "id": "e8f43e63",
   "metadata": {},
   "outputs": [],
   "source": []
  },
  {
   "cell_type": "code",
   "execution_count": 148,
   "id": "1fa0c430-bbc7-44b6-957a-32fce0fcfb07",
   "metadata": {},
   "outputs": [
    {
     "data": {
      "text/html": [
       "<div>\n",
       "<style scoped>\n",
       "    .dataframe tbody tr th:only-of-type {\n",
       "        vertical-align: middle;\n",
       "    }\n",
       "\n",
       "    .dataframe tbody tr th {\n",
       "        vertical-align: top;\n",
       "    }\n",
       "\n",
       "    .dataframe thead th {\n",
       "        text-align: right;\n",
       "    }\n",
       "</style>\n",
       "<table border=\"1\" class=\"dataframe\">\n",
       "  <thead>\n",
       "    <tr style=\"text-align: right;\">\n",
       "      <th></th>\n",
       "      <th>age</th>\n",
       "      <th>sex</th>\n",
       "      <th>bmi</th>\n",
       "      <th>children</th>\n",
       "      <th>smoker</th>\n",
       "      <th>region_northeast</th>\n",
       "      <th>region_northwest</th>\n",
       "      <th>region_southeast</th>\n",
       "      <th>region_southwest</th>\n",
       "      <th>charges</th>\n",
       "    </tr>\n",
       "  </thead>\n",
       "  <tbody>\n",
       "    <tr>\n",
       "      <th>0</th>\n",
       "      <td>19</td>\n",
       "      <td>1</td>\n",
       "      <td>27.900</td>\n",
       "      <td>0</td>\n",
       "      <td>1</td>\n",
       "      <td>0</td>\n",
       "      <td>0</td>\n",
       "      <td>0</td>\n",
       "      <td>1</td>\n",
       "      <td>16884.92400</td>\n",
       "    </tr>\n",
       "    <tr>\n",
       "      <th>1</th>\n",
       "      <td>18</td>\n",
       "      <td>0</td>\n",
       "      <td>33.770</td>\n",
       "      <td>1</td>\n",
       "      <td>0</td>\n",
       "      <td>0</td>\n",
       "      <td>0</td>\n",
       "      <td>1</td>\n",
       "      <td>0</td>\n",
       "      <td>1725.55230</td>\n",
       "    </tr>\n",
       "    <tr>\n",
       "      <th>2</th>\n",
       "      <td>28</td>\n",
       "      <td>0</td>\n",
       "      <td>33.000</td>\n",
       "      <td>3</td>\n",
       "      <td>0</td>\n",
       "      <td>0</td>\n",
       "      <td>0</td>\n",
       "      <td>1</td>\n",
       "      <td>0</td>\n",
       "      <td>4449.46200</td>\n",
       "    </tr>\n",
       "    <tr>\n",
       "      <th>3</th>\n",
       "      <td>33</td>\n",
       "      <td>0</td>\n",
       "      <td>22.705</td>\n",
       "      <td>0</td>\n",
       "      <td>0</td>\n",
       "      <td>0</td>\n",
       "      <td>1</td>\n",
       "      <td>0</td>\n",
       "      <td>0</td>\n",
       "      <td>21984.47061</td>\n",
       "    </tr>\n",
       "    <tr>\n",
       "      <th>4</th>\n",
       "      <td>32</td>\n",
       "      <td>0</td>\n",
       "      <td>28.880</td>\n",
       "      <td>0</td>\n",
       "      <td>0</td>\n",
       "      <td>0</td>\n",
       "      <td>1</td>\n",
       "      <td>0</td>\n",
       "      <td>0</td>\n",
       "      <td>3866.85520</td>\n",
       "    </tr>\n",
       "    <tr>\n",
       "      <th>...</th>\n",
       "      <td>...</td>\n",
       "      <td>...</td>\n",
       "      <td>...</td>\n",
       "      <td>...</td>\n",
       "      <td>...</td>\n",
       "      <td>...</td>\n",
       "      <td>...</td>\n",
       "      <td>...</td>\n",
       "      <td>...</td>\n",
       "      <td>...</td>\n",
       "    </tr>\n",
       "    <tr>\n",
       "      <th>1333</th>\n",
       "      <td>50</td>\n",
       "      <td>0</td>\n",
       "      <td>30.970</td>\n",
       "      <td>3</td>\n",
       "      <td>0</td>\n",
       "      <td>0</td>\n",
       "      <td>1</td>\n",
       "      <td>0</td>\n",
       "      <td>0</td>\n",
       "      <td>10600.54830</td>\n",
       "    </tr>\n",
       "    <tr>\n",
       "      <th>1334</th>\n",
       "      <td>18</td>\n",
       "      <td>1</td>\n",
       "      <td>31.920</td>\n",
       "      <td>0</td>\n",
       "      <td>0</td>\n",
       "      <td>1</td>\n",
       "      <td>0</td>\n",
       "      <td>0</td>\n",
       "      <td>0</td>\n",
       "      <td>2205.98080</td>\n",
       "    </tr>\n",
       "    <tr>\n",
       "      <th>1335</th>\n",
       "      <td>18</td>\n",
       "      <td>1</td>\n",
       "      <td>36.850</td>\n",
       "      <td>0</td>\n",
       "      <td>0</td>\n",
       "      <td>0</td>\n",
       "      <td>0</td>\n",
       "      <td>1</td>\n",
       "      <td>0</td>\n",
       "      <td>1629.83350</td>\n",
       "    </tr>\n",
       "    <tr>\n",
       "      <th>1336</th>\n",
       "      <td>21</td>\n",
       "      <td>1</td>\n",
       "      <td>25.800</td>\n",
       "      <td>0</td>\n",
       "      <td>0</td>\n",
       "      <td>0</td>\n",
       "      <td>0</td>\n",
       "      <td>0</td>\n",
       "      <td>1</td>\n",
       "      <td>2007.94500</td>\n",
       "    </tr>\n",
       "    <tr>\n",
       "      <th>1337</th>\n",
       "      <td>61</td>\n",
       "      <td>1</td>\n",
       "      <td>29.070</td>\n",
       "      <td>0</td>\n",
       "      <td>1</td>\n",
       "      <td>0</td>\n",
       "      <td>1</td>\n",
       "      <td>0</td>\n",
       "      <td>0</td>\n",
       "      <td>29141.36030</td>\n",
       "    </tr>\n",
       "  </tbody>\n",
       "</table>\n",
       "<p>1338 rows × 10 columns</p>\n",
       "</div>"
      ],
      "text/plain": [
       "      age  sex     bmi  children  smoker  region_northeast  region_northwest  \\\n",
       "0      19    1  27.900         0       1                 0                 0   \n",
       "1      18    0  33.770         1       0                 0                 0   \n",
       "2      28    0  33.000         3       0                 0                 0   \n",
       "3      33    0  22.705         0       0                 0                 1   \n",
       "4      32    0  28.880         0       0                 0                 1   \n",
       "...   ...  ...     ...       ...     ...               ...               ...   \n",
       "1333   50    0  30.970         3       0                 0                 1   \n",
       "1334   18    1  31.920         0       0                 1                 0   \n",
       "1335   18    1  36.850         0       0                 0                 0   \n",
       "1336   21    1  25.800         0       0                 0                 0   \n",
       "1337   61    1  29.070         0       1                 0                 1   \n",
       "\n",
       "      region_southeast  region_southwest      charges  \n",
       "0                    0                 1  16884.92400  \n",
       "1                    1                 0   1725.55230  \n",
       "2                    1                 0   4449.46200  \n",
       "3                    0                 0  21984.47061  \n",
       "4                    0                 0   3866.85520  \n",
       "...                ...               ...          ...  \n",
       "1333                 0                 0  10600.54830  \n",
       "1334                 0                 0   2205.98080  \n",
       "1335                 1                 0   1629.83350  \n",
       "1336                 0                 1   2007.94500  \n",
       "1337                 0                 0  29141.36030  \n",
       "\n",
       "[1338 rows x 10 columns]"
      ]
     },
     "execution_count": 148,
     "metadata": {},
     "output_type": "execute_result"
    }
   ],
   "source": [
    "charges = df.pop('charges') \n",
    "df['charges']=charges\n",
    "df"
   ]
  },
  {
   "cell_type": "code",
   "execution_count": 39,
   "id": "035e1fcf-b89e-4e36-94ee-cff0f032039b",
   "metadata": {},
   "outputs": [
    {
     "data": {
      "text/plain": [
       "(1338, 10)"
      ]
     },
     "execution_count": 39,
     "metadata": {},
     "output_type": "execute_result"
    }
   ],
   "source": [
    "data=np.array(df)\n",
    "data.shape"
   ]
  },
  {
   "cell_type": "code",
   "execution_count": 104,
   "id": "2c8bca2b",
   "metadata": {},
   "outputs": [
    {
     "data": {
      "text/html": [
       "<div>\n",
       "<style scoped>\n",
       "    .dataframe tbody tr th:only-of-type {\n",
       "        vertical-align: middle;\n",
       "    }\n",
       "\n",
       "    .dataframe tbody tr th {\n",
       "        vertical-align: top;\n",
       "    }\n",
       "\n",
       "    .dataframe thead th {\n",
       "        text-align: right;\n",
       "    }\n",
       "</style>\n",
       "<table border=\"1\" class=\"dataframe\">\n",
       "  <thead>\n",
       "    <tr style=\"text-align: right;\">\n",
       "      <th></th>\n",
       "      <th>age</th>\n",
       "      <th>sex</th>\n",
       "      <th>bmi</th>\n",
       "      <th>children</th>\n",
       "      <th>smoker</th>\n",
       "      <th>region_northeast</th>\n",
       "      <th>region_northwest</th>\n",
       "      <th>region_southeast</th>\n",
       "      <th>region_southwest</th>\n",
       "      <th>charges</th>\n",
       "    </tr>\n",
       "  </thead>\n",
       "  <tbody>\n",
       "    <tr>\n",
       "      <th>count</th>\n",
       "      <td>1338.000000</td>\n",
       "      <td>1338.000000</td>\n",
       "      <td>1338.000000</td>\n",
       "      <td>1338.000000</td>\n",
       "      <td>1338.000000</td>\n",
       "      <td>1338.000000</td>\n",
       "      <td>1338.000000</td>\n",
       "      <td>1338.000000</td>\n",
       "      <td>1338.000000</td>\n",
       "      <td>1338.000000</td>\n",
       "    </tr>\n",
       "    <tr>\n",
       "      <th>mean</th>\n",
       "      <td>39.207025</td>\n",
       "      <td>0.494768</td>\n",
       "      <td>30.663397</td>\n",
       "      <td>1.094918</td>\n",
       "      <td>0.204783</td>\n",
       "      <td>0.242152</td>\n",
       "      <td>0.242900</td>\n",
       "      <td>0.272048</td>\n",
       "      <td>0.242900</td>\n",
       "      <td>13270.422265</td>\n",
       "    </tr>\n",
       "    <tr>\n",
       "      <th>std</th>\n",
       "      <td>14.049960</td>\n",
       "      <td>0.500160</td>\n",
       "      <td>6.098187</td>\n",
       "      <td>1.205493</td>\n",
       "      <td>0.403694</td>\n",
       "      <td>0.428546</td>\n",
       "      <td>0.428995</td>\n",
       "      <td>0.445181</td>\n",
       "      <td>0.428995</td>\n",
       "      <td>12110.011237</td>\n",
       "    </tr>\n",
       "    <tr>\n",
       "      <th>min</th>\n",
       "      <td>18.000000</td>\n",
       "      <td>0.000000</td>\n",
       "      <td>15.960000</td>\n",
       "      <td>0.000000</td>\n",
       "      <td>0.000000</td>\n",
       "      <td>0.000000</td>\n",
       "      <td>0.000000</td>\n",
       "      <td>0.000000</td>\n",
       "      <td>0.000000</td>\n",
       "      <td>1121.873900</td>\n",
       "    </tr>\n",
       "    <tr>\n",
       "      <th>25%</th>\n",
       "      <td>27.000000</td>\n",
       "      <td>0.000000</td>\n",
       "      <td>26.296250</td>\n",
       "      <td>0.000000</td>\n",
       "      <td>0.000000</td>\n",
       "      <td>0.000000</td>\n",
       "      <td>0.000000</td>\n",
       "      <td>0.000000</td>\n",
       "      <td>0.000000</td>\n",
       "      <td>4740.287150</td>\n",
       "    </tr>\n",
       "    <tr>\n",
       "      <th>50%</th>\n",
       "      <td>39.000000</td>\n",
       "      <td>0.000000</td>\n",
       "      <td>30.400000</td>\n",
       "      <td>1.000000</td>\n",
       "      <td>0.000000</td>\n",
       "      <td>0.000000</td>\n",
       "      <td>0.000000</td>\n",
       "      <td>0.000000</td>\n",
       "      <td>0.000000</td>\n",
       "      <td>9382.033000</td>\n",
       "    </tr>\n",
       "    <tr>\n",
       "      <th>75%</th>\n",
       "      <td>51.000000</td>\n",
       "      <td>1.000000</td>\n",
       "      <td>34.693750</td>\n",
       "      <td>2.000000</td>\n",
       "      <td>0.000000</td>\n",
       "      <td>0.000000</td>\n",
       "      <td>0.000000</td>\n",
       "      <td>1.000000</td>\n",
       "      <td>0.000000</td>\n",
       "      <td>16639.912515</td>\n",
       "    </tr>\n",
       "    <tr>\n",
       "      <th>max</th>\n",
       "      <td>64.000000</td>\n",
       "      <td>1.000000</td>\n",
       "      <td>53.130000</td>\n",
       "      <td>5.000000</td>\n",
       "      <td>1.000000</td>\n",
       "      <td>1.000000</td>\n",
       "      <td>1.000000</td>\n",
       "      <td>1.000000</td>\n",
       "      <td>1.000000</td>\n",
       "      <td>63770.428010</td>\n",
       "    </tr>\n",
       "  </tbody>\n",
       "</table>\n",
       "</div>"
      ],
      "text/plain": [
       "               age          sex          bmi     children       smoker  \\\n",
       "count  1338.000000  1338.000000  1338.000000  1338.000000  1338.000000   \n",
       "mean     39.207025     0.494768    30.663397     1.094918     0.204783   \n",
       "std      14.049960     0.500160     6.098187     1.205493     0.403694   \n",
       "min      18.000000     0.000000    15.960000     0.000000     0.000000   \n",
       "25%      27.000000     0.000000    26.296250     0.000000     0.000000   \n",
       "50%      39.000000     0.000000    30.400000     1.000000     0.000000   \n",
       "75%      51.000000     1.000000    34.693750     2.000000     0.000000   \n",
       "max      64.000000     1.000000    53.130000     5.000000     1.000000   \n",
       "\n",
       "       region_northeast  region_northwest  region_southeast  region_southwest  \\\n",
       "count       1338.000000       1338.000000       1338.000000       1338.000000   \n",
       "mean           0.242152          0.242900          0.272048          0.242900   \n",
       "std            0.428546          0.428995          0.445181          0.428995   \n",
       "min            0.000000          0.000000          0.000000          0.000000   \n",
       "25%            0.000000          0.000000          0.000000          0.000000   \n",
       "50%            0.000000          0.000000          0.000000          0.000000   \n",
       "75%            0.000000          0.000000          1.000000          0.000000   \n",
       "max            1.000000          1.000000          1.000000          1.000000   \n",
       "\n",
       "            charges  \n",
       "count   1338.000000  \n",
       "mean   13270.422265  \n",
       "std    12110.011237  \n",
       "min     1121.873900  \n",
       "25%     4740.287150  \n",
       "50%     9382.033000  \n",
       "75%    16639.912515  \n",
       "max    63770.428010  "
      ]
     },
     "execution_count": 104,
     "metadata": {},
     "output_type": "execute_result"
    }
   ],
   "source": [
    "df.describe()"
   ]
  },
  {
   "cell_type": "code",
   "execution_count": 40,
   "id": "4938e738-441b-439a-90e5-26569e5ed837",
   "metadata": {},
   "outputs": [
    {
     "data": {
      "text/plain": [
       "16884.924"
      ]
     },
     "execution_count": 40,
     "metadata": {},
     "output_type": "execute_result"
    }
   ],
   "source": [
    "data[0][9]#the target y 9"
   ]
  },
  {
   "cell_type": "code",
   "execution_count": 149,
   "id": "0682e4da-b8bb-47c1-b30a-c3fc668c7ceb",
   "metadata": {},
   "outputs": [
    {
     "data": {
      "text/plain": [
       "((1338, 9), (1338, 1))"
      ]
     },
     "execution_count": 149,
     "metadata": {},
     "output_type": "execute_result"
    }
   ],
   "source": [
    "X=data[:,0:9]\n",
    "y=data[:,9:]\n",
    "data_norm=(X-X.mean(axis=0))/X.std(axis=0)\n",
    "data_norm.shape, y.shape\n",
    "# this has to be amended its standarzation equation not normalization\n"
   ]
  },
  {
   "cell_type": "code",
   "execution_count": 49,
   "id": "aba1f57c",
   "metadata": {},
   "outputs": [
    {
     "data": {
      "text/plain": [
       "((1338, 9), (1338, 1))"
      ]
     },
     "execution_count": 49,
     "metadata": {},
     "output_type": "execute_result"
    }
   ],
   "source": [
    "# Extra cell ................................................\n",
    "\n",
    "X=data[:,0:9]\n",
    "y=data[:,9:]\n",
    "data_norm=(X - np.min(X)) / (np.max(X) - np.min(X))\n",
    "data_norm.shape, y.shape"
   ]
  },
  {
   "cell_type": "code",
   "execution_count": 150,
   "id": "7057ed16-fa74-410f-8988-bda0540a85aa",
   "metadata": {},
   "outputs": [
    {
     "data": {
      "text/plain": [
       "(array([[16884.924  ],\n",
       "        [ 1725.5523 ],\n",
       "        [ 4449.462  ],\n",
       "        [21984.47061],\n",
       "        [ 3866.8552 ],\n",
       "        [ 3756.6216 ],\n",
       "        [ 8240.5896 ],\n",
       "        [ 7281.5056 ],\n",
       "        [ 6406.4107 ],\n",
       "        [28923.13692]]),\n",
       " array([-1.43876426,  1.0105187 , -0.45332   , -0.90861367,  1.97058663,\n",
       "        -0.56526686, -0.56641788, -0.61132367,  1.76548098]))"
      ]
     },
     "execution_count": 150,
     "metadata": {},
     "output_type": "execute_result"
    }
   ],
   "source": [
    "y[:10],data_norm[0]\n",
    "# just to make sure that all values are between 0 and 1 ??"
   ]
  },
  {
   "cell_type": "code",
   "execution_count": 151,
   "id": "703b3aee-60ff-4644-813e-69585d0cf658",
   "metadata": {},
   "outputs": [
    {
     "data": {
      "text/plain": [
       "1070"
      ]
     },
     "execution_count": 151,
     "metadata": {},
     "output_type": "execute_result"
    }
   ],
   "source": [
    "# Now I want to train the model according to pareto princple \n",
    "splitter=int(len(X)*0.8) #pareto principle\n",
    "splitter"
   ]
  },
  {
   "cell_type": "code",
   "execution_count": 152,
   "id": "82d7ef8b-8190-4a8f-9e06-747d21bbcc71",
   "metadata": {},
   "outputs": [],
   "source": [
    "X_train=data_norm[:splitter]\n",
    "y_train=y[:splitter]\n",
    "X_test=data_norm[splitter:]\n",
    "y_test=y[splitter:]"
   ]
  },
  {
   "cell_type": "code",
   "execution_count": 63,
   "id": "e3bbbc76-6c8d-49a8-a202-3eaac1e42710",
   "metadata": {},
   "outputs": [
    {
     "data": {
      "text/plain": [
       "((1070, 9), (1070, 1), (268, 9), (268, 1))"
      ]
     },
     "execution_count": 63,
     "metadata": {},
     "output_type": "execute_result"
    }
   ],
   "source": [
    "X_train.shape, y_train.shape, X_test.shape, y_test.shape\n",
    "# train 1070 and test 268"
   ]
  },
  {
   "cell_type": "code",
   "execution_count": null,
   "id": "7fb71842",
   "metadata": {},
   "outputs": [],
   "source": [
    "print (X_train)\n",
    "print ('______________________________________________________________________________')\n",
    "print (y_train)\n",
    "print ('______________________________________________________________________________')\n",
    "print ( X_test)\n",
    "print ('______________________________________________________________________________')\n",
    "print (y_test)\n"
   ]
  },
  {
   "cell_type": "markdown",
   "id": "c102969b-0167-47e7-9cf2-fca44aae463a",
   "metadata": {},
   "source": [
    "###  normal_equation"
   ]
  },
  {
   "cell_type": "code",
   "execution_count": 153,
   "id": "da0511a6-2a06-4dd9-96b2-6f1b76d6a0b3",
   "metadata": {},
   "outputs": [
    {
     "name": "stdout",
     "output_type": "stream",
     "text": [
      "[[ 1.         -1.43876426  1.0105187  ... -0.56641788 -0.61132367\n",
      "   1.76548098]\n",
      " [ 1.         -1.50996545 -0.98959079 ... -0.56641788  1.63579466\n",
      "  -0.56641788]\n",
      " [ 1.         -0.79795355 -0.98959079 ... -0.56641788  1.63579466\n",
      "  -0.56641788]\n",
      " ...\n",
      " [ 1.         -0.01474046 -0.98959079 ... -0.56641788 -0.61132367\n",
      "  -0.56641788]\n",
      " [ 1.          1.69408811 -0.98959079 ...  1.76548098 -0.61132367\n",
      "  -0.56641788]\n",
      " [ 1.          1.0532774   1.0105187  ... -0.56641788  1.63579466\n",
      "  -0.56641788]]\n"
     ]
    }
   ],
   "source": [
    "X_b=np.c_[np.ones([X_train.shape[0],1]),X_train] # book page 117\n",
    "# Calculate theta using least square equation : inv(XT*X)XT*y\n",
    "theta=np.dot(np.linalg.inv(np.dot(X_b.transpose(),X_b)),np.dot(X_b.transpose(),y_train))\n",
    "print (X_b)\n"
   ]
  },
  {
   "cell_type": "code",
   "execution_count": 154,
   "id": "d75ff462-8ddd-46ed-b17a-035e68ee26bd",
   "metadata": {},
   "outputs": [
    {
     "data": {
      "text/plain": [
       "array([[13185.46749758],\n",
       "       [ 3644.96154247],\n",
       "       [  126.03638843],\n",
       "       [ 2061.40019243],\n",
       "       [  529.07002573],\n",
       "       [ 9544.24533768],\n",
       "       [  304.        ],\n",
       "       [  128.        ],\n",
       "       [ -224.        ],\n",
       "       [ -256.        ]])"
      ]
     },
     "execution_count": 154,
     "metadata": {},
     "output_type": "execute_result"
    }
   ],
   "source": [
    "theta"
   ]
  },
  {
   "cell_type": "code",
   "execution_count": 155,
   "id": "747a236f-e187-4146-a536-7ed09a18f2e1",
   "metadata": {},
   "outputs": [
    {
     "name": "stdout",
     "output_type": "stream",
     "text": [
      "the r2 is 0.7583414104279613 the rss is 9969066810.578518 the rse is 6121.9028721967625\n"
     ]
    }
   ],
   "source": [
    "# use functions \n",
    "y_predict = predict (X_test,theta)\n",
    "r2_score, sse, tse=compute_r2(y_test,y_predict)\n",
    "rss,rse=compute_rss_rse(y_test,y_predict)\n",
    "r2_score,rss,rse\n",
    "print(f\"the r2 is {r2_score[0]} the rss is {rss} the rse is {rse}\")"
   ]
  },
  {
   "cell_type": "code",
   "execution_count": null,
   "id": "02fafc71",
   "metadata": {},
   "outputs": [],
   "source": [
    "#plt.plot(X_test, y_test, \"r-\")\n",
    "plt.plot(X, y, \"b.\")\n",
    "plt.axis([10000,20000])\n",
    "plt.show()\n",
    "# page 117??????????????????????????????????"
   ]
  },
  {
   "cell_type": "code",
   "execution_count": 84,
   "id": "ef2de62e",
   "metadata": {},
   "outputs": [
    {
     "data": {
      "text/plain": [
       "array([[16884.924 ],\n",
       "       [ 1725.5523],\n",
       "       [ 4449.462 ],\n",
       "       ...,\n",
       "       [ 1629.8335],\n",
       "       [ 2007.945 ],\n",
       "       [29141.3603]])"
      ]
     },
     "execution_count": 84,
     "metadata": {},
     "output_type": "execute_result"
    }
   ],
   "source": [
    "y"
   ]
  },
  {
   "cell_type": "markdown",
   "id": "18f9817d-cf8c-4f20-8732-0dad474b43cb",
   "metadata": {},
   "source": [
    "### gradient descent "
   ]
  },
  {
   "cell_type": "code",
   "execution_count": 156,
   "id": "110c0ad1-1db0-4823-b83e-67cb20e666ff",
   "metadata": {},
   "outputs": [
    {
     "data": {
      "text/plain": [
       "array([[13185.52618532],\n",
       "       [ 3644.46861654],\n",
       "       [  126.89169257],\n",
       "       [ 2067.6585255 ],\n",
       "       [  529.21570942],\n",
       "       [ 9545.17841978],\n",
       "       [  307.32874278],\n",
       "       [  105.38286861],\n",
       "       [ -178.83702586],\n",
       "       [ -226.64496335]])"
      ]
     },
     "execution_count": 156,
     "metadata": {},
     "output_type": "execute_result"
    }
   ],
   "source": [
    "eta = 0.1  # learning rate\n",
    "n_iterations = 100\n",
    "m = X.shape[0] # m is the batch size, which is the number of training examples used in each iteration\n",
    "theta = np.random.randn(len(X_b[0]), 1)  # random initialization\n",
    "\n",
    "# the above from book page 124\n",
    "\n",
    "X_b=np.c_[np.ones([X_train.shape[0],1]),X_train] #preprocessing\n",
    "\n",
    "\n",
    "\n",
    "rss_lst =[]\n",
    "rse_lst =[]\n",
    "\n",
    "for iteration in range(n_iterations):\n",
    "    gradients = 2/m * X_b.T.dot(X_b.dot(theta) - y_train)\n",
    "    theta = theta - eta * gradients\n",
    "    rss,rse=compute_rss_rse(y_train, X_b.dot(theta))\n",
    "    rss_lst.append(rss)\n",
    "    rse_lst.append(rse)\n",
    "theta"
   ]
  },
  {
   "cell_type": "code",
   "execution_count": 100,
   "id": "11aa1f83",
   "metadata": {},
   "outputs": [
    {
     "data": {
      "text/plain": [
       "1338"
      ]
     },
     "execution_count": 100,
     "metadata": {},
     "output_type": "execute_result"
    }
   ],
   "source": [
    "m"
   ]
  },
  {
   "cell_type": "code",
   "execution_count": 16,
   "id": "e5783f54-6b06-4445-ae6e-2d862d016d75",
   "metadata": {},
   "outputs": [
    {
     "name": "stdout",
     "output_type": "stream",
     "text": [
      "the r2 is 0.758484705830502 the rss is 9963155489.801105 the rse is 6120.087561969156\n"
     ]
    }
   ],
   "source": [
    "#on test data\n",
    "y_predict = predict(X_test,theta)\n",
    "r2_score, sse, tse=compute_r2(y_test,y_predict)\n",
    "rss,rse=compute_rss_rse(y_test,y_predict)\n",
    "print(f\"the r2 is {r2_score[0]} the rss is {rss} the rse is {rse}\")"
   ]
  },
  {
   "cell_type": "code",
   "execution_count": 17,
   "id": "a706498e-881b-46fd-8382-9833051fa039",
   "metadata": {},
   "outputs": [
    {
     "data": {
      "image/png": "[encoded data removed]",
      "text/plain": [
       "<Figure size 640x480 with 1 Axes>"
      ]
     },
     "metadata": {},
     "output_type": "display_data"
    },
    {
     "data": {
      "text/plain": [
       "Text(0, 0.5, 'RSE')"
      ]
     },
     "execution_count": 17,
     "metadata": {},
     "output_type": "execute_result"
    },
    {
     "data": {
      "image/png": "[encoded data removed]",
      "text/plain": [
       "<Figure size 640x480 with 1 Axes>"
      ]
     },
     "metadata": {},
     "output_type": "display_data"
    }
   ],
   "source": [
    "plt.plot(np.arange(1,n_iterations),rss_lst[1:], color = 'red')\n",
    "plt.title('Cost function Graph')\n",
    "plt.xlabel('Number of iterations')\n",
    "plt.ylabel('RSS')\n",
    "plt.show()\n",
    "plt.plot(np.arange(1,n_iterations),rse_lst[1:], color = 'blue')\n",
    "plt.title('Cost function Graph')\n",
    "plt.xlabel('Number of iterations')\n",
    "plt.ylabel('RSE')"
   ]
  },
  {
   "cell_type": "code",
   "execution_count": 24,
   "id": "47788400-77f6-4eb9-b9b2-f4114142ddff",
   "metadata": {},
   "outputs": [
    {
     "data": {
      "text/plain": [
       "array([[13156.41647549],\n",
       "       [ 3647.51453147],\n",
       "       [  110.18735581],\n",
       "       [ 2054.43755973],\n",
       "       [  527.21463343],\n",
       "       [ 9513.18404502],\n",
       "       [  305.57941044],\n",
       "       [   99.02566916],\n",
       "       [ -167.85786866],\n",
       "       [ -229.0444239 ]])"
      ]
     },
     "execution_count": 24,
     "metadata": {},
     "output_type": "execute_result"
    }
   ],
   "source": [
    "eta_ls= np.arange(0.005, 0.15, 0.005)\n",
    "rss_lst =[]\n",
    "rse_lst=[]\n",
    "for eta in eta_ls:\n",
    " # learning rate\n",
    "    n_iterations = 50\n",
    "    m = X.shape[0]\n",
    "\n",
    "    X_b=np.c_[np.ones([X_train.shape[0],1]),X_train] #preprocessing\n",
    "    theta = np.random.randn(len(X_b[0]), 1)  # random initialization\n",
    "\n",
    "    for iteration in range(n_iterations):\n",
    "        gradients = 1/m * X_b.T.dot(X_b.dot(theta) - y_train)\n",
    "        theta = theta - eta * gradients\n",
    "    rss,rse=compute_rss_rse(y_train, X_b.dot(theta))\n",
    "    rss_lst.append(rss)\n",
    "    rse_lst.append(rse)\n"
   ]
  },
  {
   "cell_type": "code",
   "execution_count": 19,
   "id": "6ea8a52a-a427-4877-9a52-57b404ad8091",
   "metadata": {},
   "outputs": [
    {
     "data": {
      "text/plain": [
       "Text(0, 0.5, 'RSE')"
      ]
     },
     "execution_count": 19,
     "metadata": {},
     "output_type": "execute_result"
    },
    {
     "data": {
      "image/png": "[encoded data removed]",
      "text/plain": [
       "<Figure size 640x480 with 1 Axes>"
      ]
     },
     "metadata": {},
     "output_type": "display_data"
    }
   ],
   "source": [
    "plt.plot(eta_ls,rse_lst, color = 'red')\n",
    "plt.title('learning rate vs RSE with 50 iterations')\n",
    "plt.xlabel('learning rate')\n",
    "plt.ylabel('RSE')"
   ]
  },
  {
   "cell_type": "code",
   "execution_count": 20,
   "id": "fdea7c97-4778-4637-83ce-cd01819f3ba9",
   "metadata": {},
   "outputs": [],
   "source": [
    "eta_ls= [0.1,0.075,0.05,0.025,0.01]\n",
    "cost_lst=[]\n",
    "for eta in eta_ls:\n",
    " # learning rate\n",
    "    rse_lst=list()\n",
    "    n_iterations = 100\n",
    "    m = X.shape[0]\n",
    "\n",
    "    X_b=np.c_[np.ones([X_train.shape[0],1]),X_train] #preprocessing\n",
    "    theta = np.random.randn(len(X_b[0]), 1)  # random initialization\n",
    "\n",
    "    for iteration in range(n_iterations):\n",
    "        gradients = 1/m * X_b.T.dot(X_b.dot(theta) - y_train)\n",
    "        theta = theta - eta * gradients\n",
    "        rss,rse=compute_rss_rse(y_train, X_b.dot(theta))\n",
    "        rse_lst.append(rse)\n",
    "    cost_lst.append(rse_lst)"
   ]
  },
  {
   "cell_type": "code",
   "execution_count": 21,
   "id": "d6b8271c-0e70-4463-9551-8c6addb0e2cf",
   "metadata": {},
   "outputs": [
    {
     "data": {
      "image/png": "[encoded data removed]",
      "text/plain": [
       "<Figure size 640x480 with 1 Axes>"
      ]
     },
     "metadata": {},
     "output_type": "display_data"
    }
   ],
   "source": [
    "fig,ax = plt.subplots()\n",
    "ax=plt.plot(np.arange(n_iterations),cost_lst[0],label=\"0.1\")\n",
    "ax=plt.plot(np.arange(n_iterations),cost_lst[1],label=\"0.075\")\n",
    "ax=plt.plot(np.arange(n_iterations),cost_lst[2],label=\"0.05\")\n",
    "ax=plt.plot(np.arange(n_iterations),cost_lst[3],label=\"0.025\")\n",
    "ax=plt.plot(np.arange(n_iterations),cost_lst[4],label=\"0.01\")\n",
    "plt.title('RSE Graph with different learning rates')\n",
    "plt.xlabel('Number of iterations')\n",
    "plt.ylabel('RSE')\n",
    "fig.legend()\n",
    "plt.show()"
   ]
  },
  {
   "cell_type": "code",
   "execution_count": 26,
   "id": "e89125c8-92ba-4719-8745-2f6b530f1041",
   "metadata": {},
   "outputs": [],
   "source": [
    "eta_ls= [0.1,0.075,0.05,0.025,0.01]\n",
    "cost_lst=[]\n",
    "for eta in eta_ls:\n",
    " # learning rate\n",
    "    rse_lst=list()\n",
    "    n_iterations = 100\n",
    "    m = X.shape[0]\n",
    "\n",
    "    X_b=np.c_[np.ones([X_train.shape[0],1]),X_train] #preprocessing\n",
    "    theta = np.random.randn(len(X_b[0]), 1)  # random initialization\n",
    "\n",
    "    for iteration in range(n_iterations):\n",
    "        gradients = 1/m * X_b.T.dot(X_b.dot(theta) - y_train)\n",
    "        theta = theta - eta * gradients\n",
    "        r2,rss,rse=compute_r2(y_train, X_b.dot(theta))\n",
    "        rse_lst.append(r2)\n",
    "    cost_lst.append(rse_lst)"
   ]
  },
  {
   "cell_type": "code",
   "execution_count": 29,
   "id": "7872602e-3035-4aa9-8f07-69d48d292ede",
   "metadata": {},
   "outputs": [
    {
     "data": {
      "image/png": "[encoded data removed]",
      "text/plain": [
       "<Figure size 640x480 with 1 Axes>"
      ]
     },
     "metadata": {},
     "output_type": "display_data"
    }
   ],
   "source": [
    "fig,ax = plt.subplots()\n",
    "ax=plt.plot(np.arange(n_iterations),cost_lst[0],label=\"0.1\")\n",
    "ax=plt.plot(np.arange(n_iterations),cost_lst[1],label=\"0.075\")\n",
    "ax=plt.plot(np.arange(n_iterations),cost_lst[2],label=\"0.05\")\n",
    "ax=plt.plot(np.arange(n_iterations),cost_lst[3],label=\"0.025\")\n",
    "ax=plt.plot(np.arange(n_iterations),cost_lst[4],label=\"0.01\")\n",
    "plt.title('R2 Graph with different learning rates')\n",
    "plt.xlabel('Number of iterations')\n",
    "plt.ylabel('R2')\n",
    "fig.legend()\n",
    "plt.show()"
   ]
  },
  {
   "cell_type": "code",
   "execution_count": null,
   "id": "25f399ac-d227-465d-951f-ced516701473",
   "metadata": {},
   "outputs": [],
   "source": []
  }
 ],
 "metadata": {
  "kernelspec": {
   "display_name": "Python 3 (ipykernel)",
   "language": "python",
   "name": "python3"
  },
  "language_info": {
   "codemirror_mode": {
    "name": "ipython",
    "version": 3
   },
   "file_extension": ".py",
   "mimetype": "text/x-python",
   "name": "python",
   "nbconvert_exporter": "python",
   "pygments_lexer": "ipython3",
   "version": "3.10.7"
  }
 },
 "nbformat": 4,
 "nbformat_minor": 5
}
