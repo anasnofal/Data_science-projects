{
 "cells": [
  {
   "cell_type": "markdown",
   "id": "518e7303",
   "metadata": {},
   "source": [
    "# Assignment 5 \n",
    "## Linear Regression \n",
    "### Steps:\n",
    "    1. Read data\n",
    "    2. Normalize data\n",
    "    3. Split data into x and y, and one to the x \n",
    "    4. Calculate the betas (coefficients)\n",
    "    5. Estimate the error, and draw the graph  "
   ]
  },
  {
   "cell_type": "code",
   "execution_count": 2,
   "id": "ccf89704",
   "metadata": {},
   "outputs": [
    {
     "name": "stdout",
     "output_type": "stream",
     "text": [
      "C:\\Users\\Farah\\Downloads\n",
      "C:\\Users\\Farah\\Downloads\\data1.txt\n",
      "['240,25,24,91,100\\n', '236,31,21,90,95\\n', '270,45,24,88,110\\n', '274,60,25,87,88\\n', '301,65,25,91,94\\n', '316,72,26,94,99\\n', '300,80,25,87,97\\n', '296,84,25,86,96\\n', '267,75,24,88,110\\n', '276,60,25,91,105\\n', '288,50,25,90,100\\n', '261,38,23,89,98\\n']\n",
      "[['240', '25', '24', '91', '100\\n'], ['236', '31', '21', '90', '95\\n'], ['270', '45', '24', '88', '110\\n'], ['274', '60', '25', '87', '88\\n'], ['301', '65', '25', '91', '94\\n'], ['316', '72', '26', '94', '99\\n'], ['300', '80', '25', '87', '97\\n'], ['296', '84', '25', '86', '96\\n'], ['267', '75', '24', '88', '110\\n'], ['276', '60', '25', '91', '105\\n'], ['288', '50', '25', '90', '100\\n'], ['261', '38', '23', '89', '98\\n']]\n"
     ]
    }
   ],
   "source": [
    "#%%\n",
    "import numpy as np\n",
    "#import pandas as pd \n",
    "import os \n",
    "import matplotlib.pyplot as plt\n",
    "\n",
    "#%%\n",
    "# Reading data from text and convert it to numbers\n",
    "cwd = os.getcwd()\n",
    "print(cwd)\n",
    "\n",
    "#file_name='data_1_variable.txt'\n",
    "file_name='data1.txt'\n",
    "\n",
    "path=cwd+'\\\\'+file_name\n",
    "print (path)\n",
    "\n",
    "with open(path,'r') as f:\n",
    "    a=f.readlines()\n",
    "    print(a)\n",
    "\n",
    "data1=[]\n",
    "for line in a:\n",
    "    data1.append(line.split(','))\n",
    "    \n",
    "print(data1)"
   ]
  },
  {
   "cell_type": "code",
   "execution_count": 4,
   "id": "1b18fc78",
   "metadata": {},
   "outputs": [
    {
     "name": "stdout",
     "output_type": "stream",
     "text": [
      "12\n",
      "(12, 5)\n"
     ]
    }
   ],
   "source": [
    "#data1=data.copy()\n",
    "\n",
    "# class\n",
    "\n",
    "print (len(data1))\n",
    "for i in range(len(data1)):\n",
    "    for j in range(len(data1[i])):\n",
    "        data1[i][j]=float(data1[i][j]) \n",
    "    #   data1[i][j]= int(data[i][j])  \n",
    "    \n",
    "data = np.array(data1)\n",
    "print(data.shape)"
   ]
  },
  {
   "cell_type": "code",
   "execution_count": 10,
   "id": "79e83d8e",
   "metadata": {},
   "outputs": [
    {
     "name": "stdout",
     "output_type": "stream",
     "text": [
      "[[-1.584493   -1.72670047 -0.26726124  0.76696499  0.10830607]\n",
      " [-1.7554046  -1.40378506 -2.67261242  0.306786   -0.70398947]\n",
      " [-0.30265597 -0.65031576 -0.26726124 -0.61357199  1.73289716]\n",
      " [-0.13174436  0.15697277  0.53452248 -1.07375098 -1.84120323]\n",
      " [ 1.02190897  0.42606895  0.53452248  0.76696499 -0.86644858]\n",
      " [ 1.66282749  0.8028036   1.33630621  2.14750197 -0.05415304]\n",
      " [ 0.97918107  1.23335748  0.53452248 -1.07375098 -0.37907125]\n",
      " [ 0.80826946  1.44863442  0.53452248 -1.53392998 -0.54153036]\n",
      " [-0.43083967  0.9642613  -0.26726124 -0.61357199  1.73289716]\n",
      " [-0.04628856  0.15697277  0.53452248  0.76696499  0.92060161]\n",
      " [ 0.46644625 -0.38121958  0.53452248  0.306786    0.10830607]\n",
      " [-0.68720708 -1.02705041 -1.06904497 -0.153393   -0.21661214]]\n",
      "____________________________\n",
      "228.16081073148766\n",
      "____________________________\n",
      "[[240.  25.  24.  91. 100.]\n",
      " [236.  31.  21.  90.  95.]\n",
      " [270.  45.  24.  88. 110.]\n",
      " [274.  60.  25.  87.  88.]\n",
      " [301.  65.  25.  91.  94.]\n",
      " [316.  72.  26.  94.  99.]\n",
      " [300.  80.  25.  87.  97.]\n",
      " [296.  84.  25.  86.  96.]\n",
      " [267.  75.  24.  88. 110.]\n",
      " [276.  60.  25.  91. 105.]\n",
      " [288.  50.  25.  90. 100.]\n",
      " [261.  38.  23.  89.  98.]]\n"
     ]
    }
   ],
   "source": [
    "#%%\n",
    "# Data normalization \n",
    "\n",
    "data_norm=(data-data.mean(axis=0))/data.std(axis=0)\n",
    "print(data_norm)\n",
    "data_norm=data\n",
    "#######\n",
    "\n",
    "x= data[0][0]-data.mean(axis=0)[0]/ data.std(axis=0)[0]\n",
    "print ('____________________________')\n",
    "print (x)\n",
    "print ('____________________________')\n",
    "print(data_norm)\n"
   ]
  },
  {
   "cell_type": "code",
   "execution_count": 28,
   "id": "8fe2279a",
   "metadata": {},
   "outputs": [
    {
     "name": "stdout",
     "output_type": "stream",
     "text": [
      "5\n",
      "[[240.  25.  24.  91.]\n",
      " [236.  31.  21.  90.]\n",
      " [270.  45.  24.  88.]\n",
      " [274.  60.  25.  87.]\n",
      " [301.  65.  25.  91.]\n",
      " [316.  72.  26.  94.]\n",
      " [300.  80.  25.  87.]\n",
      " [296.  84.  25.  86.]\n",
      " [267.  75.  24.  88.]\n",
      " [276.  60.  25.  91.]\n",
      " [288.  50.  25.  90.]\n",
      " [261.  38.  23.  89.]]\n",
      "[[100.]\n",
      " [ 95.]\n",
      " [110.]\n",
      " [ 88.]\n",
      " [ 94.]\n",
      " [ 99.]\n",
      " [ 97.]\n",
      " [ 96.]\n",
      " [110.]\n",
      " [105.]\n",
      " [100.]\n",
      " [ 98.]]\n",
      "_____________________________________________________________\n",
      "[[240.  25.  24.  91. 100.]\n",
      " [236.  31.  21.  90.  95.]\n",
      " [270.  45.  24.  88. 110.]\n",
      " [274.  60.  25.  87.  88.]\n",
      " [301.  65.  25.  91.  94.]\n",
      " [316.  72.  26.  94.  99.]\n",
      " [300.  80.  25.  87.  97.]\n",
      " [296.  84.  25.  86.  96.]\n",
      " [267.  75.  24.  88. 110.]\n",
      " [276.  60.  25.  91. 105.]\n",
      " [288.  50.  25.  90. 100.]\n",
      " [261.  38.  23.  89.  98.]]\n",
      "<matplotlib.collections.PathCollection object at 0x0000020884A90280>\n",
      "[[240.]\n",
      " [236.]\n",
      " [270.]\n",
      " [274.]\n",
      " [301.]\n",
      " [316.]\n",
      " [300.]\n",
      " [296.]\n",
      " [267.]\n",
      " [276.]\n",
      " [288.]\n",
      " [261.]]\n"
     ]
    },
    {
     "data": {
      "image/png": "[encoded data removed]",
      "text/plain": [
       "<Figure size 640x480 with 1 Axes>"
      ]
     },
     "metadata": {},
     "output_type": "display_data"
    }
   ],
   "source": [
    "#%%\n",
    "# Splitting data x, y\n",
    "cols=data_norm.shape[1]\n",
    "print(cols)\n",
    "xxx=data_norm[:,0:cols-1]\n",
    "print(xxx)\n",
    "y=data_norm[:,cols-1:cols]\n",
    "print(y)\n",
    "print('_____________________________________________________________')\n",
    "y1=data_norm[:,:1]\n",
    "\n",
    "#%%\n",
    "# y=beta[0]+beta[1]x[1]+beta[2]x[2]+...\n",
    "# plotting data for one variable\n",
    "print(data)\n",
    "\n",
    "    #plt.plot(x,y)\n",
    "  \n",
    "print(plt.scatter(y1,y,label='Data'))\n",
    "   \n",
    "print(y1)\n"
   ]
  },
  {
   "cell_type": "code",
   "execution_count": 18,
   "id": "df4cf335",
   "metadata": {},
   "outputs": [
    {
     "name": "stdout",
     "output_type": "stream",
     "text": [
      "[1. 1. 1. 1. 1. 1. 1. 1. 1. 1. 1. 1.]\n",
      "[[1.]\n",
      " [1.]\n",
      " [1.]\n",
      " [1.]\n",
      " [1.]\n",
      " [1.]\n",
      " [1.]\n",
      " [1.]\n",
      " [1.]\n",
      " [1.]\n",
      " [1.]\n",
      " [1.]]\n",
      "[[240.  25.  24.  91.   1.]\n",
      " [236.  31.  21.  90.   1.]\n",
      " [270.  45.  24.  88.   1.]\n",
      " [274.  60.  25.  87.   1.]\n",
      " [301.  65.  25.  91.   1.]\n",
      " [316.  72.  26.  94.   1.]\n",
      " [300.  80.  25.  87.   1.]\n",
      " [296.  84.  25.  86.   1.]\n",
      " [267.  75.  24.  88.   1.]\n",
      " [276.  60.  25.  91.   1.]\n",
      " [288.  50.  25.  90.   1.]\n",
      " [261.  38.  23.  89.   1.]]\n"
     ]
    }
   ],
   "source": [
    "#%%\n",
    "# add columns of ones to x data\n",
    "print(np.ones(data.shape[0]))\n",
    "xx=np.ones(data.shape[0]).reshape(data.shape[0],1)\n",
    "print(xx)\n",
    "X=np.hstack((xxx,xx))\n",
    "print(X)"
   ]
  },
  {
   "cell_type": "code",
   "execution_count": 19,
   "id": "3fc3a1ed",
   "metadata": {},
   "outputs": [
    {
     "name": "stdout",
     "output_type": "stream",
     "text": [
      "[[-0.20139442]\n",
      " [ 0.16858348]\n",
      " [ 1.19172549]\n",
      " [ 0.76232922]\n",
      " [48.41299889]]\n"
     ]
    }
   ],
   "source": [
    "#%%\n",
    "# Calculate beta using least square equation : inv(XT*X)XT*y\n",
    "beta=np.dot(np.linalg.inv(np.dot(X.transpose(),X)),np.dot(X.transpose(),y))\n",
    "print(beta)\n"
   ]
  },
  {
   "cell_type": "code",
   "execution_count": 24,
   "id": "12957834",
   "metadata": {},
   "outputs": [
    {
     "name": "stdout",
     "output_type": "stream",
     "text": [
      "[[240.  25.  24.  91. 100.]\n",
      " [236.  31.  21.  90.  95.]\n",
      " [270.  45.  24.  88. 110.]\n",
      " [274.  60.  25.  87.  88.]\n",
      " [301.  65.  25.  91.  94.]\n",
      " [316.  72.  26.  94.  99.]\n",
      " [300.  80.  25.  87.  97.]\n",
      " [296.  84.  25.  86.  96.]\n",
      " [267.  75.  24.  88. 110.]\n",
      " [276.  60.  25.  91. 105.]\n",
      " [288.  50.  25.  90. 100.]\n",
      " [261.  38.  23.  89.  98.]]\n"
     ]
    }
   ],
   "source": [
    "#%%\n",
    "# y=beta[0]+beta[1]x[1]+beta[2]x[2]+...\n",
    "# plotting data for one variable\n",
    "print(data)\n",
    "if data.shape[1]==2:\n",
    "    x1_data=np.linspace(data[:,0].min(),data[:,0].max(),100)\n",
    "    print(x1_data)\n",
    "    f1=beta[0,0]+beta[1,0]*x1_data\n",
    "    print(f1)\n",
    "    #plt.plot(x,y)\n",
    "    plt.figure(figsize=(7,7))\n",
    "    plt.scatter(data[:,0],data[:,1],label='Data')\n",
    "    plt.plot(x1_data,f1,'r', label='Prediction')\n",
    "    plt.xlabel('Population')\n",
    "    plt.ylabel('Profit')\n",
    "    plt.title('Predicted Profit vs. Population Size')\n",
    "    plt.legend()\n",
    "    plt.show()"
   ]
  },
  {
   "cell_type": "code",
   "execution_count": 26,
   "id": "ab561ac1",
   "metadata": {},
   "outputs": [
    {
     "name": "stdout",
     "output_type": "stream",
     "text": [
      "[240. 236. 270. 274. 301. 316. 300. 296. 267. 276. 288. 261.]\n",
      "-0.2013944174631206\n",
      "5\n",
      "[40.25864177 39.58430783 45.31614629 45.99048023 50.5422343  53.07098656\n",
      " 50.37365082 49.69931688 44.81039584 46.3276472  48.35064901 43.79889494]\n",
      "[ 70.05177911  76.52779814  98.94379351 117.49400985 128.00439139\n",
      " 138.8752221  145.71169031 149.80425834 134.18980786 117.83117681\n",
      " 107.93692369  89.08446369]\n",
      "[ 88.34768032  92.53671169 117.23969471 136.55224027 147.06262181\n",
      " 158.69578175 164.76992073 168.86248877 152.48570907 136.88940724\n",
      " 126.99515411 106.61803569]\n",
      "[4493.93057902 4449.7066115  4377.58359675 4348.48314342 4552.64552051\n",
      " 4709.5176771  4376.70082388 4332.38039303 4412.82961111 4542.47230594\n",
      " 4484.16505392 4415.37493661]\n",
      "[4493.93057902 4449.7066115  4377.58359675 4348.48314342 4552.64552051\n",
      " 4709.5176771  4376.70082388 4332.38039303 4412.82961111 4542.47230594\n",
      " 4484.16505392 4415.37493661]\n",
      "(12,)\n",
      "---------------------------\n",
      "[100.  95. 110.  88.  94.  99.  97.  96. 110. 105. 100.  98.]\n",
      "(12,)\n",
      "[-4393.93057902 -4354.7066115  -4267.58359675 -4260.48314342\n",
      " -4458.64552051 -4610.5176771  -4279.70082388 -4236.38039303\n",
      " -4302.82961111 -4437.47230594 -4384.16505392 -4317.37493661]\n"
     ]
    }
   ],
   "source": [
    "#%%\n",
    "# estimate the variance \n",
    "#f1=beta[0,0]+beta[1,0]*data[:,0]+beta[2,0]*data[:,1]+beta[3,0]*data[:,2]+beta[4,0]*data[:,3]\n",
    "\n",
    "# predicted value\n",
    "f1=beta[0,0]\n",
    "for i in range(len(beta)-1):\n",
    "    f1 +=beta[i+1,0]*data[:,i]\n",
    "    \n",
    "print(f1)\n",
    "print(f1.shape)\n",
    "print('---------------------------')\n",
    "print(data[:,-1])\n",
    "print(data[:,-1].shape)\n",
    "\n",
    "residual=data[:,-1]-f1\n",
    "print(residual)"
   ]
  },
  {
   "cell_type": "code",
   "execution_count": 27,
   "id": "bee5dad8",
   "metadata": {},
   "outputs": [
    {
     "name": "stdout",
     "output_type": "stream",
     "text": [
      "32585623.681778498\n"
     ]
    }
   ],
   "source": [
    "#%%\n",
    "#part b\n",
    "# Estimated variance =sum(residual^2)/n-p , p number of terms\n",
    "sigma_2=sum(residual**2)/(data.shape[0]-len(beta))\n",
    "print(sigma_2)"
   ]
  },
  {
   "cell_type": "code",
   "execution_count": 28,
   "id": "24847222",
   "metadata": {},
   "outputs": [
    {
     "name": "stdout",
     "output_type": "stream",
     "text": [
      "[[ 9.28674157e-04 -6.95324183e-04 -7.14206785e-03 -2.17621982e-03\n",
      "   1.50570579e-01]\n",
      " [-6.95324183e-04  1.08058270e-03 -5.07151352e-04  3.38510203e-03\n",
      "  -1.59082285e-01]\n",
      " [-7.14206785e-03 -5.07151352e-04  1.70398847e-01 -5.13073559e-03\n",
      "  -1.68012838e+00]\n",
      " [-2.17621982e-03  3.38510203e-03 -5.13073559e-03  2.84786359e-02\n",
      "  -2.00948224e+00]\n",
      " [ 1.50570579e-01 -1.59082285e-01 -1.68012838e+00 -2.00948224e+00\n",
      "   1.87840554e+02]]\n",
      "Standard error for beta0 is: 173.95811739217638\n",
      "Standard error for beta1 is: 187.6471722420262\n",
      "Standard error for beta2 is: 2356.3855193251416\n",
      "Standard error for beta3 is: 963.3245109731488\n",
      "Standard error for beta4 is: 78236.19105643549\n"
     ]
    }
   ],
   "source": [
    "#%%\n",
    "#part c\n",
    "# standard error of coeffcient :sqrt(Cjj*sigma^2), where C=(X'X)-1\n",
    "#The standard deviation of an estimate is called the standard error.\n",
    "# The standard error of the coefficient measures how precisely \n",
    "#the model estimates the coefficient's unknown value.\n",
    "# The standard error of the coefficient is always positive.\n",
    "# slide 28 , ch.12 ;v(B)=sigma^2*Cjj\n",
    "C=np.linalg.inv(np.dot(X.transpose(),X))\n",
    "print(C)\n",
    "for i in range(len(beta)):\n",
    "    print('Standard error for beta'+str(i)+' is:',np.sqrt(sigma_2*C[i,i]))\n",
    "# variability of beta is different due to the different values in Cjj "
   ]
  },
  {
   "cell_type": "code",
   "execution_count": null,
   "id": "c5d31f8b",
   "metadata": {},
   "outputs": [],
   "source": [
    "#%%\n",
    "#part d\n",
    "#Predict power consumption for a month in which 𝑥1 = 75oF, 𝑥2 = 24 days, 𝑥3 = 90%, and 𝑥4 = 98 tons.\n",
    "#\n",
    "x1=75\n",
    "x2=24\n",
    "x3=90\n",
    "x4=98\n",
    "fp1=beta[0,0]+beta[1,0]*x1+beta[2,0]*x2+beta[3,0]*x3+beta[4,0]*x4\n",
    "print(round(fp1,2))"
   ]
  }
 ],
 "metadata": {
  "kernelspec": {
   "display_name": "Python 3 (ipykernel)",
   "language": "python",
   "name": "python3"
  },
  "language_info": {
   "codemirror_mode": {
    "name": "ipython",
    "version": 3
   },
   "file_extension": ".py",
   "mimetype": "text/x-python",
   "name": "python",
   "nbconvert_exporter": "python",
   "pygments_lexer": "ipython3",
   "version": "3.10.7"
  }
 },
 "nbformat": 4,
 "nbformat_minor": 5
}
