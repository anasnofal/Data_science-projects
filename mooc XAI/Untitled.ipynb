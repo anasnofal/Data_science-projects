{
 "cells": [
  {
   "cell_type": "code",
   "execution_count": 3,
   "id": "058e7dcd-e28f-47a2-9a1e-d2b0b731c295",
   "metadata": {},
   "outputs": [],
   "source": [
    "import pandas as pd # used for dataframes\n",
    "import numpy as np \n",
    "import xgboost as xgb # Gradient Boosting Algorithm\n",
    "import matplotlib.pyplot as plt\n",
    "import seaborn as sns\n",
    "import gc as gc # Garbage Collector required to extract unused and residual data and variables from memory\n",
    "from sklearn.metrics import mean_squared_error as mse\n",
    "from sklearn.model_selection import train_test_split\n",
    "from sklearn.metrics import accuracy_score"
   ]
  },
  {
   "cell_type": "code",
   "execution_count": 4,
   "id": "109a7c5a-bc51-4b5e-ba13-513394dadaf6",
   "metadata": {},
   "outputs": [],
   "source": [
    "fields1 = ['username', 'course_id', 'action', 'truth'] # specific columns to load into the dataframe\n",
    "fields2 = ['username', 'course_id', 'time']\n",
    "gc.enable()"
   ]
  },
  {
   "cell_type": "code",
   "execution_count": 5,
   "id": "745e584f-08bf-4ed8-bd5a-b5ef74e46c66",
   "metadata": {},
   "outputs": [
    {
     "name": "stdout",
     "output_type": "stream",
     "text": [
      "<class 'pandas.core.frame.DataFrame'>\n",
      "RangeIndex: 29165540 entries, 0 to 29165539\n",
      "Data columns (total 4 columns):\n",
      " #   Column     Dtype \n",
      "---  ------     ----- \n",
      " 0   username   int64 \n",
      " 1   course_id  object\n",
      " 2   action     object\n",
      " 3   truth      int64 \n",
      "dtypes: int64(2), object(2)\n",
      "memory usage: 890.1+ MB\n"
     ]
    }
   ],
   "source": [
    "data_train_action = pd.read_csv('archive/train/train.csv', usecols = fields1) # load specific columns from train.csv\n",
    "data_train_action.info()"
   ]
  },
  {
   "cell_type": "code",
   "execution_count": 6,
   "id": "362b49ac-87c6-4f38-ab93-e7baf2960cad",
   "metadata": {},
   "outputs": [],
   "source": [
    "df=data_train_action.sample(frac=0.5)"
   ]
  },
  {
   "cell_type": "code",
   "execution_count": 19,
   "id": "a9e44d9a-a5cf-4e12-b455-7242f92d14e1",
   "metadata": {},
   "outputs": [
    {
     "data": {
      "text/plain": [
       "22"
      ]
     },
     "execution_count": 19,
     "metadata": {},
     "output_type": "execute_result"
    }
   ],
   "source": [
    "df['action'].nunique()"
   ]
  },
  {
   "cell_type": "code",
   "execution_count": 20,
   "id": "74ae873a-1cb5-4ec9-a4d7-da25a7b09a81",
   "metadata": {},
   "outputs": [
    {
     "data": {
      "text/plain": [
       "array(['stop_video', 'problem_get', 'pause_video', 'click_courseware',\n",
       "       'close_courseware', 'click_forum', 'seek_video',\n",
       "       'problem_check_incorrect', 'problem_check_correct',\n",
       "       'problem_check', 'play_video', 'load_video', 'click_info',\n",
       "       'click_about', 'click_progress', 'problem_save', 'create_comment',\n",
       "       'reset_problem', 'create_thread', 'delete_comment',\n",
       "       'delete_thread', 'close_forum'], dtype=object)"
      ]
     },
     "execution_count": 20,
     "metadata": {},
     "output_type": "execute_result"
    }
   ],
   "source": [
    "df['action'].unique()"
   ]
  },
  {
   "cell_type": "code",
   "execution_count": 17,
   "id": "e6ca18b3-f2f6-45ef-ac47-e8e5b4a476a5",
   "metadata": {},
   "outputs": [
    {
     "data": {
      "text/html": [
       "<div>\n",
       "<style scoped>\n",
       "    .dataframe tbody tr th:only-of-type {\n",
       "        vertical-align: middle;\n",
       "    }\n",
       "\n",
       "    .dataframe tbody tr th {\n",
       "        vertical-align: top;\n",
       "    }\n",
       "\n",
       "    .dataframe thead th {\n",
       "        text-align: right;\n",
       "    }\n",
       "</style>\n",
       "<table border=\"1\" class=\"dataframe\">\n",
       "  <thead>\n",
       "    <tr style=\"text-align: right;\">\n",
       "      <th></th>\n",
       "      <th></th>\n",
       "      <th>action</th>\n",
       "      <th>truth</th>\n",
       "    </tr>\n",
       "    <tr>\n",
       "      <th>username</th>\n",
       "      <th>course_id</th>\n",
       "      <th></th>\n",
       "      <th></th>\n",
       "    </tr>\n",
       "  </thead>\n",
       "  <tbody>\n",
       "    <tr>\n",
       "      <th rowspan=\"5\" valign=\"top\">5</th>\n",
       "      <th>TsinghuaX/60510102X/_</th>\n",
       "      <td>load_videoseek_videoseek_videoclose_courseware...</td>\n",
       "      <td>5</td>\n",
       "    </tr>\n",
       "    <tr>\n",
       "      <th>TsinghuaX/70240183x/2015_T2</th>\n",
       "      <td>seek_videoproblem_getload_videoseek_videoclose...</td>\n",
       "      <td>21</td>\n",
       "    </tr>\n",
       "    <tr>\n",
       "      <th>TsinghuaX/80511503X/2015_T2</th>\n",
       "      <td>play_videoplay_videopause_videoload_videoclose...</td>\n",
       "      <td>31</td>\n",
       "    </tr>\n",
       "    <tr>\n",
       "      <th>TsinghuaX/80515522X/2015_T1</th>\n",
       "      <td>close_coursewareload_video</td>\n",
       "      <td>0</td>\n",
       "    </tr>\n",
       "    <tr>\n",
       "      <th>course-v1:MicrosoftX+Microsoft101+_</th>\n",
       "      <td>click_coursewareload_videoload_videoclick_cour...</td>\n",
       "      <td>0</td>\n",
       "    </tr>\n",
       "    <tr>\n",
       "      <th>...</th>\n",
       "      <th>...</th>\n",
       "      <td>...</td>\n",
       "      <td>...</td>\n",
       "    </tr>\n",
       "    <tr>\n",
       "      <th>7005413</th>\n",
       "      <th>course-v1:TsinghuaX+AP000008X+2017T1</th>\n",
       "      <td>problem_saveproblem_get</td>\n",
       "      <td>2</td>\n",
       "    </tr>\n",
       "    <tr>\n",
       "      <th>7011178</th>\n",
       "      <th>course-v1:TsinghuaX+AP000008X+2017T1</th>\n",
       "      <td>click_aboutload_videoplay_videoclick_coursewar...</td>\n",
       "      <td>24</td>\n",
       "    </tr>\n",
       "    <tr>\n",
       "      <th>7019483</th>\n",
       "      <th>course-v1:TsinghuaX+20320074X+2017_T1</th>\n",
       "      <td>play_videoload_videoplay_videoplay_videoclick_...</td>\n",
       "      <td>25</td>\n",
       "    </tr>\n",
       "    <tr>\n",
       "      <th>7023562</th>\n",
       "      <th>course-v1:TsinghuaX+AP000008X+2017T1</th>\n",
       "      <td>pause_videoseek_videopause_videoseek_videoplay...</td>\n",
       "      <td>140</td>\n",
       "    </tr>\n",
       "    <tr>\n",
       "      <th>7036067</th>\n",
       "      <th>course-v1:TsinghuaX+AP000008X+2017T1</th>\n",
       "      <td>load_videoproblem_saveproblem_getpause_videolo...</td>\n",
       "      <td>6</td>\n",
       "    </tr>\n",
       "  </tbody>\n",
       "</table>\n",
       "<p>152414 rows × 2 columns</p>\n",
       "</div>"
      ],
      "text/plain": [
       "                                                                                           action  \\\n",
       "username course_id                                                                                  \n",
       "5        TsinghuaX/60510102X/_                  load_videoseek_videoseek_videoclose_courseware...   \n",
       "         TsinghuaX/70240183x/2015_T2            seek_videoproblem_getload_videoseek_videoclose...   \n",
       "         TsinghuaX/80511503X/2015_T2            play_videoplay_videopause_videoload_videoclose...   \n",
       "         TsinghuaX/80515522X/2015_T1                                   close_coursewareload_video   \n",
       "         course-v1:MicrosoftX+Microsoft101+_    click_coursewareload_videoload_videoclick_cour...   \n",
       "...                                                                                           ...   \n",
       "7005413  course-v1:TsinghuaX+AP000008X+2017T1                             problem_saveproblem_get   \n",
       "7011178  course-v1:TsinghuaX+AP000008X+2017T1   click_aboutload_videoplay_videoclick_coursewar...   \n",
       "7019483  course-v1:TsinghuaX+20320074X+2017_T1  play_videoload_videoplay_videoplay_videoclick_...   \n",
       "7023562  course-v1:TsinghuaX+AP000008X+2017T1   pause_videoseek_videopause_videoseek_videoplay...   \n",
       "7036067  course-v1:TsinghuaX+AP000008X+2017T1   load_videoproblem_saveproblem_getpause_videolo...   \n",
       "\n",
       "                                                truth  \n",
       "username course_id                                     \n",
       "5        TsinghuaX/60510102X/_                      5  \n",
       "         TsinghuaX/70240183x/2015_T2               21  \n",
       "         TsinghuaX/80511503X/2015_T2               31  \n",
       "         TsinghuaX/80515522X/2015_T1                0  \n",
       "         course-v1:MicrosoftX+Microsoft101+_        0  \n",
       "...                                               ...  \n",
       "7005413  course-v1:TsinghuaX+AP000008X+2017T1       2  \n",
       "7011178  course-v1:TsinghuaX+AP000008X+2017T1      24  \n",
       "7019483  course-v1:TsinghuaX+20320074X+2017_T1     25  \n",
       "7023562  course-v1:TsinghuaX+AP000008X+2017T1     140  \n",
       "7036067  course-v1:TsinghuaX+AP000008X+2017T1       6  \n",
       "\n",
       "[152414 rows x 2 columns]"
      ]
     },
     "execution_count": 17,
     "metadata": {},
     "output_type": "execute_result"
    }
   ],
   "source": [
    "df.groupby(['username','course_id']).sum()"
   ]
  }
 ],
 "metadata": {
  "kernelspec": {
   "display_name": "Python 3 (ipykernel)",
   "language": "python",
   "name": "python3"
  },
  "language_info": {
   "codemirror_mode": {
    "name": "ipython",
    "version": 3
   },
   "file_extension": ".py",
   "mimetype": "text/x-python",
   "name": "python",
   "nbconvert_exporter": "python",
   "pygments_lexer": "ipython3",
   "version": "3.10.10"
  }
 },
 "nbformat": 4,
 "nbformat_minor": 5
}
